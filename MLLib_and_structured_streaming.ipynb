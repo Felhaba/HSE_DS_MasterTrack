{
  "cells": [
    {
      "cell_type": "markdown",
      "metadata": {
        "id": "view-in-github",
        "colab_type": "text"
      },
      "source": [
        "<a href=\"https://colab.research.google.com/github/Felgaba/HSE_DS_MasterTrack/blob/main/MLLib_and_structured_streaming.ipynb\" target=\"_parent\"><img src=\"https://colab.research.google.com/assets/colab-badge.svg\" alt=\"Open In Colab\"/></a>"
      ]
    },
    {
      "cell_type": "code",
      "source": [
        "from google.colab import drive\n",
        "drive.mount('/content/drive')"
      ],
      "metadata": {
        "colab": {
          "base_uri": "https://localhost:8080/"
        },
        "id": "xom9l55hKRPC",
        "outputId": "c2141316-3edc-48bc-8bed-0f9e3f937f04"
      },
      "execution_count": null,
      "outputs": [
        {
          "output_type": "stream",
          "name": "stdout",
          "text": [
            "Mounted at /content/drive\n"
          ]
        }
      ]
    },
    {
      "cell_type": "code",
      "source": [
        "! pip install -q pyspark"
      ],
      "metadata": {
        "id": "nekdGmdBKSZf",
        "colab": {
          "base_uri": "https://localhost:8080/"
        },
        "outputId": "2cbe06c7-7702-4876-ba00-80034f16772f"
      },
      "execution_count": null,
      "outputs": [
        {
          "output_type": "stream",
          "name": "stdout",
          "text": [
            "\u001b[K     |████████████████████████████████| 281.4 MB 38 kB/s \n",
            "\u001b[K     |████████████████████████████████| 199 kB 50.4 MB/s \n",
            "\u001b[?25h  Building wheel for pyspark (setup.py) ... \u001b[?25l\u001b[?25hdone\n"
          ]
        }
      ]
    },
    {
      "cell_type": "code",
      "source": [
        "! pip install -q findspark"
      ],
      "metadata": {
        "id": "RLrc_l8YKlrW"
      },
      "execution_count": null,
      "outputs": []
    },
    {
      "cell_type": "code",
      "source": [
        "import findspark\n",
        "findspark.init()\n",
        "import pyspark"
      ],
      "metadata": {
        "id": "jkMJX-TSKB38"
      },
      "execution_count": null,
      "outputs": []
    },
    {
      "cell_type": "code",
      "source": [
        "from pyspark.sql import SparkSession\n",
        "\n",
        "spark = SparkSession.builder.getOrCreate()"
      ],
      "metadata": {
        "id": "Sd7aOEn2Kaef"
      },
      "execution_count": null,
      "outputs": []
    },
    {
      "cell_type": "code",
      "execution_count": null,
      "metadata": {
        "id": "4AFxFnzRJ8As"
      },
      "outputs": [],
      "source": [
        "spark = pyspark.sql.SparkSession.builder.getOrCreate()"
      ]
    },
    {
      "cell_type": "code",
      "execution_count": null,
      "metadata": {
        "id": "m8ywRWlfJ8At",
        "colab": {
          "base_uri": "https://localhost:8080/"
        },
        "outputId": "5419b53e-9491-4bc1-f5ce-4b8eb3254b1c"
      },
      "outputs": [
        {
          "output_type": "stream",
          "name": "stdout",
          "text": [
            "--2022-11-24 06:50:17--  https://archive.ics.uci.edu/ml/machine-learning-databases/00228/smsspamcollection.zip\n",
            "Resolving archive.ics.uci.edu (archive.ics.uci.edu)... 128.195.10.252\n",
            "Connecting to archive.ics.uci.edu (archive.ics.uci.edu)|128.195.10.252|:443... connected.\n",
            "HTTP request sent, awaiting response... 200 OK\n",
            "Length: 203415 (199K) [application/x-httpd-php]\n",
            "Saving to: ‘smsspamcollection.zip’\n",
            "\n",
            "smsspamcollection.z 100%[===================>] 198.65K  --.-KB/s    in 0.1s    \n",
            "\n",
            "2022-11-24 06:50:18 (1.77 MB/s) - ‘smsspamcollection.zip’ saved [203415/203415]\n",
            "\n"
          ]
        }
      ],
      "source": [
        "!wget https://archive.ics.uci.edu/ml/machine-learning-databases/00228/smsspamcollection.zip"
      ]
    },
    {
      "cell_type": "code",
      "source": [
        "!unzip smsspamcollection.zip"
      ],
      "metadata": {
        "id": "SlIrlLfiKzPs",
        "colab": {
          "base_uri": "https://localhost:8080/"
        },
        "outputId": "bb3cc0b7-2a4d-4950-d0b6-ae1bee815e64"
      },
      "execution_count": null,
      "outputs": [
        {
          "output_type": "stream",
          "name": "stdout",
          "text": [
            "Archive:  smsspamcollection.zip\n",
            "  inflating: SMSSpamCollection       \n",
            "  inflating: readme                  \n"
          ]
        }
      ]
    },
    {
      "cell_type": "code",
      "execution_count": null,
      "metadata": {
        "id": "ebb3ASWOJ8Au",
        "colab": {
          "base_uri": "https://localhost:8080/"
        },
        "outputId": "3d931a32-0249-47d5-d494-bd2eef199a76"
      },
      "outputs": [
        {
          "output_type": "stream",
          "name": "stdout",
          "text": [
            "ham\tGo until jurong point, crazy.. Available only in bugis n great world la e buffet... Cine there got amore wat...\n",
            "ham\tOk lar... Joking wif u oni...\n",
            "spam\tFree entry in 2 a wkly comp to win FA Cup final tkts 21st May 2005. Text FA to 87121 to receive entry question(std txt rate)T&C's apply 08452810075over18's\n",
            "ham\tU dun say so early hor... U c already then say...\n",
            "ham\tNah I don't think he goes to usf, he lives around here though\n",
            "spam\tFreeMsg Hey there darling it's been 3 week's now and no word back! I'd like some fun you up for it still? Tb ok! XxX std chgs to send, £1.50 to rcv\n",
            "ham\tEven my brother is not like to speak with me. They treat me like aids patent.\n",
            "ham\tAs per your request 'Melle Melle (Oru Minnaminunginte Nurungu Vettam)' has been set as your callertune for all Callers. Press *9 to copy your friends Callertune\n",
            "spam\tWINNER!! As a valued network customer you have been selected to receivea £900 prize reward! To claim call 09061701461. Claim code KL341. Valid 12 hours only.\n",
            "spam\tHad your mobile 11 months or more? U R entitled to Update to the latest colour mobiles with camera for Free! Call The Mobile Update Co FREE on 08002986030\n"
          ]
        }
      ],
      "source": [
        "!head SMSSpamCollection"
      ]
    },
    {
      "cell_type": "code",
      "execution_count": null,
      "metadata": {
        "id": "mBUKK0piJ8Av"
      },
      "outputs": [],
      "source": [
        "src = (\n",
        "    spark\n",
        "    .read\n",
        "    .option(\"sep\", \"\\t\")\n",
        "    .csv(\"SMSSpamCollection\")\n",
        "    .withColumnRenamed(\"_c0\", \"label\")\n",
        "    .withColumnRenamed(\"_c1\", \"message\")\n",
        ")"
      ]
    },
    {
      "cell_type": "code",
      "execution_count": null,
      "metadata": {
        "id": "uB_M0JTFJ8Av",
        "colab": {
          "base_uri": "https://localhost:8080/"
        },
        "outputId": "02783609-f98e-43ec-a577-fed91ee31a17"
      },
      "outputs": [
        {
          "output_type": "stream",
          "name": "stdout",
          "text": [
            "+-----+--------------------+\n",
            "|label|             message|\n",
            "+-----+--------------------+\n",
            "|  ham|Go until jurong p...|\n",
            "|  ham|Ok lar... Joking ...|\n",
            "| spam|Free entry in 2 a...|\n",
            "|  ham|U dun say so earl...|\n",
            "|  ham|Nah I don't think...|\n",
            "| spam|FreeMsg Hey there...|\n",
            "|  ham|Even my brother i...|\n",
            "|  ham|As per your reque...|\n",
            "| spam|WINNER!! As a val...|\n",
            "| spam|Had your mobile 1...|\n",
            "|  ham|I'm gonna be home...|\n",
            "| spam|SIX chances to wi...|\n",
            "| spam|URGENT! You have ...|\n",
            "|  ham|I've been searchi...|\n",
            "|  ham|I HAVE A DATE ON ...|\n",
            "| spam|XXXMobileMovieClu...|\n",
            "|  ham|Oh k...i'm watchi...|\n",
            "|  ham|Eh u remember how...|\n",
            "|  ham|Fine if thats th...|\n",
            "| spam|England v Macedon...|\n",
            "+-----+--------------------+\n",
            "only showing top 20 rows\n",
            "\n"
          ]
        }
      ],
      "source": [
        "src.show()"
      ]
    },
    {
      "cell_type": "code",
      "execution_count": null,
      "metadata": {
        "id": "aeGXPpqxJ8Aw"
      },
      "outputs": [],
      "source": [
        "from pyspark.ml import feature"
      ]
    },
    {
      "cell_type": "code",
      "execution_count": null,
      "metadata": {
        "id": "euf-8qeTJ8Aw"
      },
      "outputs": [],
      "source": [
        "tokenizer = feature.Tokenizer(inputCol=\"message\", outputCol=\"tokens\") #sokit sentences by words"
      ]
    },
    {
      "cell_type": "code",
      "execution_count": null,
      "metadata": {
        "id": "6tWIy4KvJ8Ax",
        "colab": {
          "base_uri": "https://localhost:8080/"
        },
        "outputId": "d2aa59c3-e6c4-4516-b8af-b079c4d9db1f"
      },
      "outputs": [
        {
          "output_type": "stream",
          "name": "stdout",
          "text": [
            "+-----+--------------------+--------------------+\n",
            "|label|             message|              tokens|\n",
            "+-----+--------------------+--------------------+\n",
            "|  ham|Go until jurong p...|[go, until, juron...|\n",
            "|  ham|Ok lar... Joking ...|[ok, lar..., joki...|\n",
            "| spam|Free entry in 2 a...|[free, entry, in,...|\n",
            "|  ham|U dun say so earl...|[u, dun, say, so,...|\n",
            "|  ham|Nah I don't think...|[nah, i, don't, t...|\n",
            "| spam|FreeMsg Hey there...|[freemsg, hey, th...|\n",
            "|  ham|Even my brother i...|[even, my, brothe...|\n",
            "|  ham|As per your reque...|[as, per, your, r...|\n",
            "| spam|WINNER!! As a val...|[winner!!, as, a,...|\n",
            "| spam|Had your mobile 1...|[had, your, mobil...|\n",
            "|  ham|I'm gonna be home...|[i'm, gonna, be, ...|\n",
            "| spam|SIX chances to wi...|[six, chances, to...|\n",
            "| spam|URGENT! You have ...|[urgent!, you, ha...|\n",
            "|  ham|I've been searchi...|[i've, been, sear...|\n",
            "|  ham|I HAVE A DATE ON ...|[i, have, a, date...|\n",
            "| spam|XXXMobileMovieClu...|[xxxmobilemoviecl...|\n",
            "|  ham|Oh k...i'm watchi...|[oh, k...i'm, wat...|\n",
            "|  ham|Eh u remember how...|[eh, u, remember,...|\n",
            "|  ham|Fine if thats th...|[fine, if, thats...|\n",
            "| spam|England v Macedon...|[england, v, mace...|\n",
            "+-----+--------------------+--------------------+\n",
            "only showing top 20 rows\n",
            "\n"
          ]
        }
      ],
      "source": [
        "tokenizer.transform(src).show()"
      ]
    },
    {
      "cell_type": "code",
      "execution_count": null,
      "metadata": {
        "id": "J7GBZnxzJ8Ay"
      },
      "outputs": [],
      "source": [
        "from pyspark.ml import pipeline"
      ]
    },
    {
      "cell_type": "code",
      "execution_count": null,
      "metadata": {
        "id": "UvYYho37J8Ay",
        "colab": {
          "base_uri": "https://localhost:8080/"
        },
        "outputId": "3146c600-adc6-4e9b-c692-daf1acd01228"
      },
      "outputs": [
        {
          "output_type": "stream",
          "name": "stdout",
          "text": [
            "+-----+-----+\n",
            "|label|count|\n",
            "+-----+-----+\n",
            "|  ham| 4827|\n",
            "| spam|  747|\n",
            "+-----+-----+\n",
            "\n"
          ]
        }
      ],
      "source": [
        "src.groupBy(\"label\").count().show()"
      ]
    },
    {
      "cell_type": "code",
      "execution_count": null,
      "metadata": {
        "id": "5jpD39TeJ8Ay"
      },
      "outputs": [],
      "source": [
        "from pyspark.ml import classification"
      ]
    },
    {
      "cell_type": "code",
      "execution_count": null,
      "metadata": {
        "id": "kHlF09Q0J8Az"
      },
      "outputs": [],
      "source": [
        "train, test = src.randomSplit(seed=1234, weights=(70., 30.))"
      ]
    },
    {
      "cell_type": "code",
      "execution_count": null,
      "metadata": {
        "id": "WTlLiU2UJ8Az"
      },
      "outputs": [],
      "source": [
        "main_pipe = pipeline.Pipeline(\n",
        "    stages=(\n",
        "        feature.Tokenizer(inputCol=\"message\", outputCol=\"tokens\"),\n",
        "        feature.CountVectorizer(\n",
        "            maxDF=4000,\n",
        "            minDF=5,\n",
        "            inputCol=\"tokens\", \n",
        "            outputCol=\"vector\",\n",
        "        ),\n",
        "        feature.StringIndexer(inputCol=\"label\", outputCol=\"y\"),\n",
        "        classification.NaiveBayes(featuresCol=\"vector\", labelCol=\"y\"),\n",
        "    )\n",
        ")"
      ]
    },
    {
      "cell_type": "code",
      "execution_count": null,
      "metadata": {
        "id": "8mopiO83J8Az"
      },
      "outputs": [],
      "source": [
        "pipe_model = main_pipe.fit(train)"
      ]
    },
    {
      "cell_type": "code",
      "execution_count": null,
      "metadata": {
        "colab": {
          "base_uri": "https://localhost:8080/"
        },
        "id": "qPc7CTWbJ8A0",
        "outputId": "20c6f26a-cf94-411a-cefc-82f6fe8b1fee"
      },
      "outputs": [
        {
          "output_type": "stream",
          "name": "stdout",
          "text": [
            "+-----+--------------------+--------------------+--------------------+---+--------------------+--------------------+----------+\n",
            "|label|             message|              tokens|              vector|  y|       rawPrediction|         probability|prediction|\n",
            "+-----+--------------------+--------------------+--------------------+---+--------------------+--------------------+----------+\n",
            "|  ham| &lt;#&gt;  in mc...|[, &lt;#&gt;, , i...|(1502,[7,20,24,26...|0.0|[-29.189065862648...|[0.99999999839701...|       0.0|\n",
            "|  ham| &lt;#&gt;  mins ...|[, &lt;#&gt;, , m...|(1502,[0,1,20,24,...|0.0|[-57.645920593005...|[0.99999995129602...|       0.0|\n",
            "|  ham| came to look at ...|[, came, to, look...|(1502,[0,4,7,8,20...|0.0|[-106.80303662568...|[0.99999999987274...|       0.0|\n",
            "|  ham|&lt;#&gt;  w jett...|[&lt;#&gt;, , w, ...|(1502,[2,20,29,40...|0.0|[-34.942124728177...|[0.99999960047460...|       0.0|\n",
            "|  ham|&lt;#&gt; ISH MIN...|[&lt;#&gt;, ish, ...|(1502,[40,58,408,...|0.0|[-34.609496567593...|[0.99868796579939...|       0.0|\n",
            "|  ham|'An Amazing Quote...|['an, amazing, qu...|(1502,[0,3,4,7,18...|0.0|[-101.12595863941...|[0.99985038986458...|       0.0|\n",
            "|  ham|'Wnevr i wana fal...|['wnevr, i, wana,...|(1502,[1,7,9,57,1...|0.0|[-74.311904349858...|[0.99999988302732...|       0.0|\n",
            "|  ham|(And my man carlo...|[(and, my, man, c...|(1502,[8,9,44,84,...|0.0|[-61.033904831503...|[0.99997020484162...|       0.0|\n",
            "|  ham|(No promises on w...|[(no, promises, o...|(1502,[16,39,176,...|0.0|[-33.237372632101...|[0.99693135455790...|       0.0|\n",
            "|  ham|(You didn't hear ...|[(you, didn't, he...|(1502,[21,42,259,...|0.0|[-25.753938560447...|[0.99330933003020...|       0.0|\n",
            "|  ham|* Am on a train b...|[*, am, on, a, tr...|(1502,[3,16,22,36...|0.0|[-52.933887662419...|[0.99957053046944...|       0.0|\n",
            "|  ham|* Was really good...|[*, was, really, ...|(1502,[0,2,4,58,6...|0.0|[-78.577975076093...|[0.99997734513825...|       0.0|\n",
            "|  ham|, ow u dey.i paid...|[,, ow, u, dey.i,...|(1502,[5,15,20,57...|0.0|[-45.399316892780...|[0.99999752618220...|       0.0|\n",
            "|  ham|....photoshop mak...|[....photoshop, m...|(1502,[9,532,918]...|0.0|[-21.628743779925...|[0.98966803212955...|       0.0|\n",
            "|  ham|1's reach home ca...|[1's, reach, home...|(1502,[15,114,119...|0.0|[-26.025792432424...|[0.97385467929933...|       0.0|\n",
            "|  ham|1. Tension face 2...|[1., tension, fac...|(1502,[20,40,562,...|0.0|[-125.43773545653...|[0.99999999915984...|       0.0|\n",
            "|  ham|1.20 that call co...|[1.20, that, call...|(1502,[1,15,18,64...|0.0|[-59.889884276849...|[0.99997934480446...|       0.0|\n",
            "|  ham|   10 min later k...|[10, min, later, ...|(1502,[127,423,90...|0.0|[-23.617484261820...|[0.94345694649814...|       0.0|\n",
            "|  ham|        26th OF JULY|    [26th, of, july]|   (1502,[12],[1.0])|0.0|[-4.8267011539387...|[0.89865231858548...|       0.0|\n",
            "|  ham|2marrow only. Wed...|[2marrow, only., ...|(1502,[0,19,20,30...|0.0|[-37.643077169221...|[0.99999827882180...|       0.0|\n",
            "+-----+--------------------+--------------------+--------------------+---+--------------------+--------------------+----------+\n",
            "only showing top 20 rows\n",
            "\n"
          ]
        }
      ],
      "source": [
        "pipe_model.transform(test).show()"
      ]
    },
    {
      "cell_type": "code",
      "execution_count": null,
      "metadata": {
        "id": "gug8K8FZJ8A0"
      },
      "outputs": [],
      "source": [
        "spam_stream_dir = \"/stream/spam/\"\n",
        "\n",
        "!mkdir -p $spam_stream_dir"
      ]
    },
    {
      "cell_type": "code",
      "source": [
        "# !ls /stream/spam/"
      ],
      "metadata": {
        "id": "ta9bH2fQNmKd"
      },
      "execution_count": null,
      "outputs": []
    },
    {
      "cell_type": "code",
      "execution_count": null,
      "metadata": {
        "id": "4gkOjec3J8A0"
      },
      "outputs": [],
      "source": [
        "!shuf SMSSpamCollection | head -1000 > `tempfile -d $spam_stream_dir`"
      ]
    },
    {
      "cell_type": "code",
      "source": [
        "src.schema"
      ],
      "metadata": {
        "id": "SMnfBQXgNxN7",
        "outputId": "58eb21b8-73f9-4467-ccb7-839c76145df4",
        "colab": {
          "base_uri": "https://localhost:8080/"
        }
      },
      "execution_count": null,
      "outputs": [
        {
          "output_type": "execute_result",
          "data": {
            "text/plain": [
              "StructType([StructField('label', StringType(), True), StructField('message', StringType(), True)])"
            ]
          },
          "metadata": {},
          "execution_count": 28
        }
      ]
    },
    {
      "cell_type": "code",
      "execution_count": null,
      "metadata": {
        "id": "CBXj-iEaJ8A1"
      },
      "outputs": [],
      "source": [
        "spam_stream = (\n",
        "    spark\n",
        "    .readStream\n",
        "    .schema(src.schema)\n",
        "    .option(\"sep\", \"\\t\")\n",
        "    .csv(spam_stream_dir)\n",
        ")"
      ]
    },
    {
      "cell_type": "code",
      "execution_count": null,
      "metadata": {
        "id": "pSNYSvl-J8A1"
      },
      "outputs": [],
      "source": [
        "spam_stream.writeStream.format(\"memory\").queryName(\"spam_stream\").start() #write spark table in the temporal SQL table"
      ]
    },
    {
      "cell_type": "code",
      "execution_count": null,
      "metadata": {
        "id": "MLA1dm1sJ8A1",
        "outputId": "7418bda2-cbf1-4e78-ad8b-412d29864b95",
        "colab": {
          "base_uri": "https://localhost:8080/"
        }
      },
      "outputs": [
        {
          "output_type": "stream",
          "name": "stdout",
          "text": [
            "+-----+--------------------+\n",
            "|label|             message|\n",
            "+-----+--------------------+\n",
            "|  ham|I re-met alex nic...|\n",
            "|  ham|K k :-):-) then w...|\n",
            "|  ham|Are you being goo...|\n",
            "|  ham|OH FUCK. JUSWOKE ...|\n",
            "|  ham|K:)all the best:)...|\n",
            "|  ham|I guess that's wh...|\n",
            "| spam|-PLS STOP bootyde...|\n",
            "|  ham|I'm tired of argu...|\n",
            "|  ham|Everybody had fun...|\n",
            "|  ham| Is ur lecture over?|\n",
            "|  ham|Sounds better tha...|\n",
            "|  ham|I‘ll have a look ...|\n",
            "|  ham|It does it on its...|\n",
            "| spam|Dear U've been in...|\n",
            "|  ham|they released ano...|\n",
            "|  ham|Jos ask if u wana...|\n",
            "|  ham|Moji just informe...|\n",
            "|  ham|Its like that hot...|\n",
            "|  ham|Aight, text me to...|\n",
            "|  ham|Its on in engalnd...|\n",
            "+-----+--------------------+\n",
            "only showing top 20 rows\n",
            "\n"
          ]
        }
      ],
      "source": [
        "spark.sql(\"SELECT * FROM spam_stream\").show()"
      ]
    },
    {
      "cell_type": "code",
      "execution_count": null,
      "metadata": {
        "id": "TaQ3XSAjJ8A2",
        "outputId": "ec98c206-02b1-4df2-a876-40c719cdd834",
        "colab": {
          "base_uri": "https://localhost:8080/"
        }
      },
      "outputs": [
        {
          "output_type": "execute_result",
          "data": {
            "text/plain": [
              "<pyspark.sql.streaming.StreamingQuery at 0x7fccbc256b90>"
            ]
          },
          "metadata": {},
          "execution_count": 34
        }
      ],
      "source": [
        "(\n",
        "    pipe_model\n",
        "    .transform(spam_stream)\n",
        "    .writeStream\n",
        "    .format(\"memory\")\n",
        "    .trigger(processingTime=\"10 seconds\")\n",
        "    .queryName(\"predictions_stream\")\n",
        "    .start()\n",
        ")"
      ]
    },
    {
      "cell_type": "code",
      "execution_count": null,
      "metadata": {
        "id": "19BxcqOqJ8A2",
        "outputId": "697a6958-bda6-4f46-adf4-5f4b45e26cc9",
        "colab": {
          "base_uri": "https://localhost:8080/"
        }
      },
      "outputs": [
        {
          "output_type": "stream",
          "name": "stdout",
          "text": [
            "+-----+------------------------------------------------------------------------------------------------------------------------------------------------------------------------------------------------------------------------------------------------------------------------------------------------------------+----------------------------------------------------------------------------------------------------------------------------------------------------------------------------------------------------------------------------------------------------------------------------------------------------------------------------------------------------------------------+----------------------------------------------------------------------------------------------------------------------------------------------------------------------------------------------------------------------------------------------------------------------------------------------------------------+---+-----------------------------------------+-------------------------------------------+----------+\n",
            "|label|message                                                                                                                                                                                                                                                                                                     |tokens                                                                                                                                                                                                                                                                                                                                                                |vector                                                                                                                                                                                                                                                                                                          |y  |rawPrediction                            |probability                                |prediction|\n",
            "+-----+------------------------------------------------------------------------------------------------------------------------------------------------------------------------------------------------------------------------------------------------------------------------------------------------------------+----------------------------------------------------------------------------------------------------------------------------------------------------------------------------------------------------------------------------------------------------------------------------------------------------------------------------------------------------------------------+----------------------------------------------------------------------------------------------------------------------------------------------------------------------------------------------------------------------------------------------------------------------------------------------------------------+---+-----------------------------------------+-------------------------------------------+----------+\n",
            "|ham  |I re-met alex nichols from middle school and it turns out he's dealing!                                                                                                                                                                                                                                     |[i, re-met, alex, nichols, from, middle, school, and, it, turns, out, he's, dealing!]                                                                                                                                                                                                                                                                                 |(1502,[1,6,21,42,56,372,424,1308,1372],[1.0,1.0,1.0,1.0,1.0,1.0,1.0,1.0,1.0])                                                                                                                                                                                                                                   |0.0|[-57.027465588443135,-67.20231868928313] |[0.9999618845641327,3.8115435867404124E-5] |0.0       |\n",
            "|ham  |K k :-):-) then watch some films.                                                                                                                                                                                                                                                                           |[k, k, :-):-), then, watch, some, films.]                                                                                                                                                                                                                                                                                                                             |(1502,[59,101,251,379],[1.0,1.0,2.0,1.0])                                                                                                                                                                                                                                                                       |0.0|[-33.808300181451756,-44.68637956937243] |[0.9999811330388909,1.8866961109021957E-5] |0.0       |\n",
            "|ham  |Are you being good, baby? :)                                                                                                                                                                                                                                                                                |[are, you, being, good,, baby?, :)]                                                                                                                                                                                                                                                                                                                                   |(1502,[2,17,187,271,1074],[1.0,1.0,1.0,1.0,1.0])                                                                                                                                                                                                                                                                |0.0|[-31.129143629464586,-38.309971549877076]|[0.9992395412348714,7.604587651286478E-4]  |0.0       |\n",
            "|ham  |OH FUCK. JUSWOKE UP IN A BED ON A BOATIN THE DOCKS. SLEPT WID 25 YEAR OLD. SPINOUT! GIV U DA GOSSIP L8R. XXX                                                                                                                                                                                                |[oh, fuck., juswoke, up, in, a, bed, on, a, boatin, the, docks., slept, wid, 25, year, old., spinout!, giv, u, da, gossip, l8r., xxx]                                                                                                                                                                                                                                 |(1502,[3,4,5,7,16,48,156,193,335,367,599,695],[2.0,1.0,1.0,1.0,1.0,1.0,1.0,1.0,1.0,1.0,1.0,1.0])                                                                                                                                                                                                                |0.0|[-76.41919692756251,-85.25590571691154]  |[0.9998547209349983,1.4527906500173742E-4] |0.0       |\n",
            "|ham  |K:)all the best:)congrats...                                                                                                                                                                                                                                                                                |[k:)all, the, best:)congrats...]                                                                                                                                                                                                                                                                                                                                      |(1502,[4],[1.0])                                                                                                                                                                                                                                                                                                |0.0|[-4.066518572042664,-6.262547214323303]  |[0.8998923143438121,0.10010768565618788]   |0.0       |\n",
            "|ham  |I guess that's why you re worried. You must know that there's a way the body repairs itself. And i'm quite sure you shouldn't worry. We'll take it slow. First the tests, they will guide when your ovulation is then just relax. Nothing you've said is a reason to worry but i.ll keep on followin you up.|[i, guess, that's, why, you, re, worried., you, must, know, that, there's, a, way, the, body, repairs, itself., and, i'm, quite, sure, you, shouldn't, worry., we'll, take, it, slow., first, the, tests,, they, will, guide, when, your, ovulation, is, then, just, relax., nothing, you've, said, is, a, reason, to, worry, but, i.ll, keep, on, followin, you, up.]|(1502,[0,1,2,3,4,6,8,11,16,18,21,24,28,31,36,39,52,59,94,95,136,143,173,183,188,195,248,333,352,371,401,405,421,503,626,636,658,719,975,1489],[1.0,1.0,4.0,2.0,2.0,1.0,2.0,1.0,1.0,1.0,1.0,1.0,1.0,1.0,1.0,1.0,1.0,1.0,1.0,1.0,1.0,1.0,1.0,1.0,1.0,1.0,1.0,1.0,1.0,1.0,1.0,1.0,1.0,1.0,1.0,1.0,1.0,1.0,1.0,1.0])|0.0|[-270.1734775394173,-311.35226705827995] |[1.0,1.3070100905862087E-18]               |0.0       |\n",
            "|spam |-PLS STOP bootydelious (32/F) is inviting you to be her friend. Reply YES-434 or NO-434 See her: www.SMS.ac/u/bootydelious STOP? Send STOP FRND to 62468                                                                                                                                                    |[-pls, stop, bootydelious, (32/f), is, inviting, you, to, be, her, friend., reply, yes-434, or, no-434, see, her:, www.sms.ac/u/bootydelious, stop?, send, stop, frnd, to, 62468]                                                                                                                                                                                     |(1502,[0,2,8,23,27,63,93,97,105,110,1098,1193,1314],[2.0,1.0,1.0,1.0,1.0,1.0,1.0,2.0,1.0,1.0,1.0,1.0,1.0])                                                                                                                                                                                                      |1.0|[-96.18657328605725,-84.99428548322429]  |[1.3779871978591583E-5,0.9999862201280214] |1.0       |\n",
            "|ham  |I'm tired of arguing with you about this week after week. Do what you want and from now on, i'll do the same.                                                                                                                                                                                               |[i'm, tired, of, arguing, with, you, about, this, week, after, week., do, what, you, want, and, from, now, on,, i'll, do, the, same.]                                                                                                                                                                                                                                 |(1502,[2,4,6,12,32,35,36,38,42,46,50,64,77,78,138,163,646,1277],[2.0,1.0,1.0,1.0,1.0,2.0,1.0,1.0,1.0,1.0,1.0,1.0,1.0,1.0,1.0,1.0,1.0,1.0])                                                                                                                                                                      |0.0|[-111.74887681758115,-125.82440727715849]|[0.9999992289643537,7.710356462895238E-7]  |0.0       |\n",
            "|ham  |Everybody had fun this evening. Miss you.                                                                                                                                                                                                                                                                   |[everybody, had, fun, this, evening., miss, you.]                                                                                                                                                                                                                                                                                                                     |(1502,[38,117,130,132,643],[1.0,1.0,1.0,1.0,1.0])                                                                                                                                                                                                                                                               |0.0|[-33.64714381760887,-36.183454349753895] |[0.9266484437821252,0.07335155621787486]   |0.0       |\n",
            "|ham  |Is ur lecture over?                                                                                                                                                                                                                                                                                         |[is, ur, lecture, over?]                                                                                                                                                                                                                                                                                                                                              |(1502,[8,34],[1.0,1.0])                                                                                                                                                                                                                                                                                         |0.0|[-10.075579805804987,-11.241560786170158]|[0.7624177909124935,0.23758220908750646]   |0.0       |\n",
            "|ham  |Sounds better than my evening im just doing my costume. Im not sure what time i finish tomorrow but i will txt you at the end.                                                                                                                                                                              |[sounds, better, than, my, evening, im, just, doing, my, costume., im, not, sure, what, time, i, finish, tomorrow, but, i, will, txt, you, at, the, end.]                                                                                                                                                                                                             |(1502,[1,2,4,9,24,26,28,30,31,46,68,74,135,184,188,227,261,296,318,456,703],[2.0,1.0,1.0,2.0,1.0,1.0,1.0,1.0,1.0,1.0,1.0,1.0,2.0,1.0,1.0,1.0,1.0,1.0,1.0,1.0,1.0])                                                                                                                                              |0.0|[-139.0824668049414,-173.36230787888476] |[0.9999999999999987,1.2955500071968363E-15]|0.0       |\n",
            "|ham  |I‘ll have a look at the frying pan in case it‘s cheap or a book perhaps. No that‘s silly a frying pan isn‘t likely to be a book                                                                                                                                                                             |[i‘ll, have, a, look, at, the, frying, pan, in, case, it‘s, cheap, or, a, book, perhaps., no, that‘s, silly, a, frying, pan, isn‘t, likely, to, be, a, book]                                                                                                                                                                                                          |(1502,[0,3,4,7,14,23,27,30,44,417,546,940,1367],[1.0,4.0,1.0,1.0,1.0,1.0,1.0,1.0,1.0,1.0,2.0,1.0,1.0])                                                                                                                                                                                                          |0.0|[-95.3249139529887,-98.57895038414223]   |[0.9628178855544126,0.037182114445587444]  |0.0       |\n",
            "|ham  |It does it on its own. Most of the time it fixes my spelling. But sometimes it gets a completely diff word. Go figure                                                                                                                                                                                       |[it, does, it, on, its, own., most, of, the, time, it, fixes, my, spelling., but, sometimes, it, gets, a, completely, diff, word., go, figure]                                                                                                                                                                                                                        |(1502,[3,4,9,12,16,21,24,41,55,68,366,404,902,1072,1136,1206],[1.0,1.0,1.0,1.0,1.0,4.0,1.0,1.0,1.0,1.0,1.0,1.0,1.0,1.0,1.0,1.0])                                                                                                                                                                                |0.0|[-112.99880992143349,-134.35611698597037]|[0.9999999994695561,5.304438192092383E-10] |0.0       |\n",
            "|spam |Dear U've been invited to XCHAT. This is our final attempt to contact u! Txt CHAT to 86688 150p/MsgrcvdHG/Suite342/2Lands/Row/W1J6HL LDN 18 yrs                                                                                                                                                             |[dear, u've, been, invited, to, xchat., this, is, our, final, attempt, to, contact, u!, txt, chat, to, 86688, 150p/msgrcvdhg/suite342/2lands/row/w1j6hl, ldn, 18, yrs]                                                                                                                                                                                                |(1502,[0,8,38,74,83,91,129,191,216,452,475,484,527,628,1204],[3.0,1.0,1.0,1.0,1.0,1.0,1.0,1.0,1.0,1.0,1.0,1.0,1.0,1.0,1.0])                                                                                                                                                                                     |1.0|[-124.65023819811798,-96.24595770997144] |[4.615063931210699E-13,0.9999999999995386] |1.0       |\n",
            "|ham  |they released another Italian one today and it has a cosign option                                                                                                                                                                                                                                          |[they, released, another, italian, one, today, and, it, has, a, cosign, option]                                                                                                                                                                                                                                                                                       |(1502,[3,6,21,75,94,100,185,284],[1.0,1.0,1.0,1.0,1.0,1.0,1.0,1.0])                                                                                                                                                                                                                                             |0.0|[-46.011754904330864,-53.52585862229016] |[0.9994549586572335,5.450413427664353E-4]  |0.0       |\n",
            "|ham  |Jos ask if u wana meet up?                                                                                                                                                                                                                                                                                  |[jos, ask, if, u, wana, meet, up?]                                                                                                                                                                                                                                                                                                                                    |(1502,[5,29,121,153,1022],[1.0,1.0,1.0,1.0,1.0])                                                                                                                                                                                                                                                                |0.0|[-30.902783536388817,-39.26198036435331] |[0.9997658224648204,2.3417753517952523E-4] |0.0       |\n",
            "|ham  |Moji just informed me that you saved our lives. Thanks.                                                                                                                                                                                                                                                     |[moji, just, informed, me, that, you, saved, our, lives., thanks.]                                                                                                                                                                                                                                                                                                    |(1502,[2,13,18,31,83,818],[1.0,1.0,1.0,1.0,1.0,1.0])                                                                                                                                                                                                                                                            |0.0|[-33.44960431811578,-38.792910488142695] |[0.9952426991640111,0.004757300835988968]  |0.0       |\n",
            "|ham  |Its like that hotel dusk game i think. You solve puzzles in a area thing                                                                                                                                                                                                                                    |[its, like, that, hotel, dusk, game, i, think., you, solve, puzzles, in, a, area, thing]                                                                                                                                                                                                                                                                              |(1502,[1,2,3,7,18,49,55,243,1023,1058],[1.0,1.0,1.0,1.0,1.0,1.0,1.0,1.0,1.0,1.0])                                                                                                                                                                                                                               |0.0|[-56.567246311950086,-66.03175663297867] |[0.9999224500159503,7.754998404966787E-5]  |0.0       |\n",
            "|ham  |Aight, text me tonight and we'll see what's up                                                                                                                                                                                                                                                              |[aight,, text, me, tonight, and, we'll, see, what's, up]                                                                                                                                                                                                                                                                                                              |(1502,[6,13,48,66,93,406,503,642,758],[1.0,1.0,1.0,1.0,1.0,1.0,1.0,1.0,1.0])                                                                                                                                                                                                                                    |0.0|[-59.209830656651434,-68.34972114212069] |[0.9998927124321806,1.0728756781936216E-4] |0.0       |\n",
            "|ham  |Its on in engalnd! But telly has decided it won't let me watch it and mia and elliot were kissing! Damn it!                                                                                                                                                                                                 |[its, on, in, engalnd!, but, telly, has, decided, it, won't, let, me, watch, it, and, mia, and, elliot, were, kissing!, damn, it!]                                                                                                                                                                                                                                    |(1502,[6,7,13,16,21,24,55,100,151,197,379,411,689,735],[2.0,1.0,1.0,1.0,2.0,1.0,1.0,1.0,1.0,1.0,1.0,1.0,1.0,1.0])                                                                                                                                                                                               |0.0|[-94.1631040491409,-115.58622129263688]  |[0.9999999995033408,4.966590983510395E-10] |0.0       |\n",
            "+-----+------------------------------------------------------------------------------------------------------------------------------------------------------------------------------------------------------------------------------------------------------------------------------------------------------------+----------------------------------------------------------------------------------------------------------------------------------------------------------------------------------------------------------------------------------------------------------------------------------------------------------------------------------------------------------------------+----------------------------------------------------------------------------------------------------------------------------------------------------------------------------------------------------------------------------------------------------------------------------------------------------------------+---+-----------------------------------------+-------------------------------------------+----------+\n",
            "only showing top 20 rows\n",
            "\n"
          ]
        }
      ],
      "source": [
        "spark.sql(\"select * from predictions_stream\").show(truncate=False)"
      ]
    },
    {
      "cell_type": "code",
      "source": [],
      "metadata": {
        "id": "7MwZDXhAOuxf"
      },
      "execution_count": null,
      "outputs": []
    }
  ],
  "metadata": {
    "kernelspec": {
      "display_name": "Python 3",
      "language": "python",
      "name": "python3"
    },
    "language_info": {
      "codemirror_mode": {
        "name": "ipython",
        "version": 3
      },
      "file_extension": ".py",
      "mimetype": "text/x-python",
      "name": "python",
      "nbconvert_exporter": "python",
      "pygments_lexer": "ipython3",
      "version": "3.5.3"
    },
    "colab": {
      "provenance": [],
      "include_colab_link": true
    }
  },
  "nbformat": 4,
  "nbformat_minor": 0
}