{
  "cells": [
    {
      "cell_type": "markdown",
      "metadata": {
        "id": "view-in-github",
        "colab_type": "text"
      },
      "source": [
        "<a href=\"https://colab.research.google.com/github/Felgaba/HSE_DS_MasterTrack/blob/main/Structured_Streaming_Joins.ipynb\" target=\"_parent\"><img src=\"https://colab.research.google.com/assets/colab-badge.svg\" alt=\"Open In Colab\"/></a>"
      ]
    },
    {
      "cell_type": "code",
      "source": [
        "from google.colab import drive\n",
        "drive.mount('/content/drive')"
      ],
      "metadata": {
        "colab": {
          "base_uri": "https://localhost:8080/"
        },
        "id": "OeEgXVmeNRg1",
        "outputId": "694e32d1-a398-4eea-e248-6776c0a31467"
      },
      "execution_count": null,
      "outputs": [
        {
          "output_type": "stream",
          "name": "stdout",
          "text": [
            "Mounted at /content/drive\n"
          ]
        }
      ]
    },
    {
      "cell_type": "markdown",
      "source": [],
      "metadata": {
        "id": "O_Zj4kQjNT_c"
      }
    },
    {
      "cell_type": "code",
      "source": [
        "! pip install -q findspark\n",
        "! pip install -q pyspark"
      ],
      "metadata": {
        "colab": {
          "base_uri": "https://localhost:8080/"
        },
        "id": "QqQcPy12XPNP",
        "outputId": "d1bc6f12-aea7-4606-80f6-733f2bb7dc5f"
      },
      "execution_count": null,
      "outputs": [
        {
          "output_type": "stream",
          "name": "stdout",
          "text": [
            "\u001b[K     |████████████████████████████████| 281.4 MB 38 kB/s \n",
            "\u001b[K     |████████████████████████████████| 199 kB 50.8 MB/s \n",
            "\u001b[?25h  Building wheel for pyspark (setup.py) ... \u001b[?25l\u001b[?25hdone\n"
          ]
        }
      ]
    },
    {
      "cell_type": "code",
      "source": [
        "import findspark\n",
        "findspark.init()\n",
        "\n",
        "import pyspark"
      ],
      "metadata": {
        "id": "BmyxnhJCXetC"
      },
      "execution_count": null,
      "outputs": []
    },
    {
      "cell_type": "code",
      "execution_count": null,
      "metadata": {
        "id": "l7_qmWebQV8B"
      },
      "outputs": [],
      "source": [
        "spark = pyspark.sql.SparkSession.builder.getOrCreate()"
      ]
    },
    {
      "cell_type": "code",
      "execution_count": null,
      "metadata": {
        "id": "H4KDEpbgQV8B"
      },
      "outputs": [],
      "source": [
        "input_stream_dir = \"/stream/structured/\"\n",
        "!mkdir -p $input_stream_dir"
      ]
    },
    {
      "cell_type": "code",
      "execution_count": null,
      "metadata": {
        "colab": {
          "base_uri": "https://localhost:8080/"
        },
        "id": "xE7Gp4GxQV8C",
        "outputId": "5311eef6-cbad-4846-c8a5-4da166056316"
      },
      "outputs": [
        {
          "output_type": "execute_result",
          "data": {
            "text/plain": [
              "DataFrame[rank: int, site: string]"
            ]
          },
          "metadata": {},
          "execution_count": 5
        }
      ],
      "source": [
        "from pyspark.sql import (\n",
        "    types,\n",
        "    functions,\n",
        ")\n",
        "\n",
        "schema = (\n",
        "    types.StructType()\n",
        "    .add(\"rank\", \"integer\")\n",
        "    .add(\"site\", \"string\")\n",
        ")\n",
        "\n",
        "spark.readStream.schema(schema).csv(input_stream_dir)"
      ]
    },
    {
      "cell_type": "code",
      "execution_count": null,
      "metadata": {
        "id": "135Q2rPIQV8D"
      },
      "outputs": [],
      "source": [
        "input_stream = spark.readStream.schema(schema).csv(input_stream_dir)"
      ]
    },
    {
      "cell_type": "code",
      "execution_count": null,
      "metadata": {
        "colab": {
          "base_uri": "https://localhost:8080/"
        },
        "id": "Av_RcTTNQV8E",
        "outputId": "6b4dce06-c951-4f0d-aa89-e158699649a4"
      },
      "outputs": [
        {
          "output_type": "execute_result",
          "data": {
            "text/plain": [
              "<pyspark.sql.streaming.StreamingQuery at 0x7f1ed53b6b10>"
            ]
          },
          "metadata": {},
          "execution_count": 8
        }
      ],
      "source": [
        "input_stream.writeStream.format(\"memory\").queryName(\"input\").trigger(processingTime=\"5 seconds\").start()"
      ]
    },
    {
      "cell_type": "code",
      "execution_count": null,
      "metadata": {
        "id": "z4JDQgNFQV8E"
      },
      "outputs": [],
      "source": [
        "!shuf /content/drive/MyDrive/Programming/m5-forecasting-accuracy/data/top-1m.csv | head -1000 > `tempfile -d $input_stream_dir`"
      ]
    },
    {
      "cell_type": "code",
      "execution_count": null,
      "metadata": {
        "colab": {
          "base_uri": "https://localhost:8080/"
        },
        "id": "wehT6OmBQV8F",
        "outputId": "d463ac6f-53b5-463a-eff4-280a4f666db1"
      },
      "outputs": [
        {
          "output_type": "stream",
          "name": "stdout",
          "text": [
            "+------+--------------------+\n",
            "|  rank|                site|\n",
            "+------+--------------------+\n",
            "|396128|        artwolfe.com|\n",
            "|167564|           loves.com|\n",
            "|188503|         midiinc.com|\n",
            "| 28367|downforeveryoneor...|\n",
            "|918875|    sarkarinotes.com|\n",
            "|995576|      kalittaair.com|\n",
            "|158285|   usenet-driver.top|\n",
            "|245425|         i-popka.net|\n",
            "|607034|          namtia.com|\n",
            "|447926|         petedge.com|\n",
            "|   808|         doorblog.jp|\n",
            "|645561|           blasty.co|\n",
            "|412815|confederationpays...|\n",
            "| 48404|motorcyclespecs.c...|\n",
            "|966704|         dusupay.com|\n",
            "|430323|             kchr.ru|\n",
            "|898407|      madresenama.ir|\n",
            "|682614|  shop-collect.co.il|\n",
            "|888976|       tweetsave.com|\n",
            "|379309|sozdaniegrupp.blo...|\n",
            "+------+--------------------+\n",
            "only showing top 20 rows\n",
            "\n"
          ]
        }
      ],
      "source": [
        "spark.sql(\"SELECT * FROM input\").show()"
      ]
    },
    {
      "cell_type": "code",
      "execution_count": null,
      "metadata": {
        "colab": {
          "base_uri": "https://localhost:8080/"
        },
        "id": "5_AEgcCfQV8G",
        "outputId": "365d5e7d-6573-42f4-b3c8-17947afa85bc"
      },
      "outputs": [
        {
          "output_type": "stream",
          "name": "stdout",
          "text": [
            "google.com,172.217.17.110\n",
            "youtube.com,216.58.211.110\n",
            "facebook.com,157.240.20.35\n",
            "baidu.com,123.125.114.144\n",
            "baidu.com,220.181.38.148\n",
            "wikipedia.org,91.198.174.192\n",
            "qq.com,111.161.64.48\n",
            "qq.com,111.161.64.40\n",
            "taobao.com,140.205.94.189\n",
            "taobao.com,140.205.220.96\n"
          ]
        }
      ],
      "source": [
        "!head /content/drive/MyDrive/Programming/m5-forecasting-accuracy/data/ips"
      ]
    },
    {
      "cell_type": "code",
      "execution_count": null,
      "metadata": {
        "id": "UEKSsAeAQV8G"
      },
      "outputs": [],
      "source": [
        "ip_schema = (\n",
        "    types.StructType()\n",
        "    .add(\"site\", \"string\")\n",
        "    .add(\"ip\", \"string\")\n",
        ")\n",
        "\n",
        "ip_df = spark.read.schema(ip_schema).csv(\"/content/drive/MyDrive/Programming/m5-forecasting-accuracy/data/ips\")"
      ]
    },
    {
      "cell_type": "code",
      "execution_count": null,
      "metadata": {
        "colab": {
          "base_uri": "https://localhost:8080/"
        },
        "id": "5sxFfixbQV8H",
        "outputId": "82614a75-e094-4900-d72f-1eef09387ff1"
      },
      "outputs": [
        {
          "output_type": "stream",
          "name": "stdout",
          "text": [
            "+-------------+---------------+\n",
            "|         site|             ip|\n",
            "+-------------+---------------+\n",
            "|   google.com| 172.217.17.110|\n",
            "|  youtube.com| 216.58.211.110|\n",
            "| facebook.com|  157.240.20.35|\n",
            "|    baidu.com|123.125.114.144|\n",
            "|    baidu.com| 220.181.38.148|\n",
            "|wikipedia.org| 91.198.174.192|\n",
            "|       qq.com|  111.161.64.48|\n",
            "|       qq.com|  111.161.64.40|\n",
            "|   taobao.com| 140.205.94.189|\n",
            "|   taobao.com| 140.205.220.96|\n",
            "|    yahoo.com|    72.30.35.10|\n",
            "|    yahoo.com|   98.137.246.7|\n",
            "|    yahoo.com|   98.137.246.8|\n",
            "|    yahoo.com|     72.30.35.9|\n",
            "|    yahoo.com| 98.138.219.231|\n",
            "|    yahoo.com| 98.138.219.232|\n",
            "|    tmall.com| 140.205.94.193|\n",
            "|    tmall.com| 140.205.130.99|\n",
            "|   amazon.com|  176.32.98.166|\n",
            "|   amazon.com|205.251.242.103|\n",
            "+-------------+---------------+\n",
            "only showing top 20 rows\n",
            "\n"
          ]
        }
      ],
      "source": [
        "ip_df.show()"
      ]
    },
    {
      "cell_type": "code",
      "execution_count": null,
      "metadata": {
        "id": "cXLPpQ-rQV8H"
      },
      "outputs": [],
      "source": [
        "annotated_df = input_stream.join(\n",
        "    ip_df, \n",
        "    on=(input_stream.site == ip_df.site)\n",
        ")"
      ]
    },
    {
      "cell_type": "code",
      "execution_count": null,
      "metadata": {
        "colab": {
          "base_uri": "https://localhost:8080/"
        },
        "id": "5DhblAS8QV8I",
        "outputId": "e279b9ab-5994-4728-f353-0f3901f7e705"
      },
      "outputs": [
        {
          "output_type": "execute_result",
          "data": {
            "text/plain": [
              "<pyspark.sql.streaming.StreamingQuery at 0x7f1ed3052450>"
            ]
          },
          "metadata": {},
          "execution_count": 19
        }
      ],
      "source": [
        "annotated_df.writeStream.format(\"memory\").queryName(\"annotated_1\").trigger(processingTime=\"5 seconds\").start()"
      ]
    },
    {
      "cell_type": "code",
      "execution_count": null,
      "metadata": {
        "colab": {
          "base_uri": "https://localhost:8080/"
        },
        "id": "KfnWlRTFQV8I",
        "outputId": "b55ab29b-5e73-4374-d841-662e5c727915"
      },
      "outputs": [
        {
          "output_type": "stream",
          "name": "stdout",
          "text": [
            "+-----+--------------------+--------------------+---------------+\n",
            "| rank|                site|                site|             ip|\n",
            "+-----+--------------------+--------------------+---------------+\n",
            "| 3348|       stripchat.com|       stripchat.com|   88.208.29.18|\n",
            "| 4046| futura-sciences.com| futura-sciences.com|   5.135.141.70|\n",
            "| 4412|         commank.pro|         commank.pro|   88.85.94.236|\n",
            "| 5017|          bunshun.jp|          bunshun.jp|202.238.151.148|\n",
            "| 5609|        optus.com.au|        optus.com.au|  104.74.53.215|\n",
            "| 5609|        optus.com.au|        optus.com.au|104.116.136.183|\n",
            "| 5609|        optus.com.au|        optus.com.au| 23.212.208.171|\n",
            "| 6892|         gbatemp.net|         gbatemp.net|   23.96.82.247|\n",
            "| 7344|         studocu.com|         studocu.com|   52.18.170.98|\n",
            "| 7344|         studocu.com|         studocu.com|  34.253.165.49|\n",
            "| 7344|         studocu.com|         studocu.com|  52.209.177.31|\n",
            "| 8307|          zocdoc.com|          zocdoc.com|    45.60.31.63|\n",
            "| 8307|          zocdoc.com|          zocdoc.com|   45.60.103.63|\n",
            "| 8784|warhammer-communi...|warhammer-communi...|   104.16.53.92|\n",
            "| 8784|warhammer-communi...|warhammer-communi...|   104.16.52.92|\n",
            "| 9526|         txstate.edu|         txstate.edu|  147.26.138.68|\n",
            "|12200|            poedb.tw|            poedb.tw|220.135.224.183|\n",
            "|12575|      soranews24.com|      soranews24.com|    192.0.78.24|\n",
            "|12575|      soranews24.com|      soranews24.com|    192.0.78.25|\n",
            "|12580|         spotrac.com|         spotrac.com|  184.168.221.9|\n",
            "+-----+--------------------+--------------------+---------------+\n",
            "only showing top 20 rows\n",
            "\n"
          ]
        }
      ],
      "source": [
        "spark.sql(\"SELECT * FROM annotated_1\").show()"
      ]
    },
    {
      "cell_type": "code",
      "execution_count": null,
      "metadata": {
        "colab": {
          "base_uri": "https://localhost:8080/"
        },
        "id": "UwqdoMumQV8I",
        "outputId": "6f7d30b7-534a-4377-f736-2022f207d731"
      },
      "outputs": [
        {
          "output_type": "stream",
          "name": "stdout",
          "text": [
            "+--------+\n",
            "|count(1)|\n",
            "+--------+\n",
            "|     145|\n",
            "+--------+\n",
            "\n"
          ]
        }
      ],
      "source": [
        "spark.sql(\"SELECT count(1) FROM annotated_1\").show()"
      ]
    },
    {
      "cell_type": "code",
      "execution_count": null,
      "metadata": {
        "id": "vWFbIALxQV8J",
        "colab": {
          "base_uri": "https://localhost:8080/"
        },
        "outputId": "46a5a5f6-b847-4b03-f50a-8fed09591074"
      },
      "outputs": [
        {
          "output_type": "stream",
          "name": "stdout",
          "text": [
            "shuf: top-1m.csv: No such file or directory\n"
          ]
        }
      ],
      "source": [
        "!shuf top-1m.csv | head -10000 > `tempfile -d $input_stream_dir`"
      ]
    },
    {
      "cell_type": "code",
      "execution_count": null,
      "metadata": {
        "colab": {
          "base_uri": "https://localhost:8080/"
        },
        "id": "gij_l74RQV8J",
        "outputId": "97354cd1-a6d1-444e-973a-e8ecebb317a9"
      },
      "outputs": [
        {
          "output_type": "stream",
          "name": "stdout",
          "text": [
            "+--------+\n",
            "|count(1)|\n",
            "+--------+\n",
            "|     145|\n",
            "+--------+\n",
            "\n"
          ]
        }
      ],
      "source": [
        "spark.sql(\"SELECT count(1) FROM annotated_1\").show()"
      ]
    },
    {
      "cell_type": "code",
      "execution_count": null,
      "metadata": {
        "colab": {
          "base_uri": "https://localhost:8080/"
        },
        "id": "7pei_FhyQV8J",
        "outputId": "76923fdd-3693-4004-e02a-7ae80a19a46e"
      },
      "outputs": [
        {
          "output_type": "stream",
          "name": "stdout",
          "text": [
            "+-----+--------------------+--------------------+---------------+\n",
            "| rank|                site|                site|             ip|\n",
            "+-----+--------------------+--------------------+---------------+\n",
            "| 3348|       stripchat.com|       stripchat.com|   88.208.29.18|\n",
            "| 4046| futura-sciences.com| futura-sciences.com|   5.135.141.70|\n",
            "| 4412|         commank.pro|         commank.pro|   88.85.94.236|\n",
            "| 5017|          bunshun.jp|          bunshun.jp|202.238.151.148|\n",
            "| 5609|        optus.com.au|        optus.com.au|  104.74.53.215|\n",
            "| 5609|        optus.com.au|        optus.com.au|104.116.136.183|\n",
            "| 5609|        optus.com.au|        optus.com.au| 23.212.208.171|\n",
            "| 6892|         gbatemp.net|         gbatemp.net|   23.96.82.247|\n",
            "| 7344|         studocu.com|         studocu.com|   52.18.170.98|\n",
            "| 7344|         studocu.com|         studocu.com|  34.253.165.49|\n",
            "| 7344|         studocu.com|         studocu.com|  52.209.177.31|\n",
            "| 8307|          zocdoc.com|          zocdoc.com|    45.60.31.63|\n",
            "| 8307|          zocdoc.com|          zocdoc.com|   45.60.103.63|\n",
            "| 8784|warhammer-communi...|warhammer-communi...|   104.16.53.92|\n",
            "| 8784|warhammer-communi...|warhammer-communi...|   104.16.52.92|\n",
            "| 9526|         txstate.edu|         txstate.edu|  147.26.138.68|\n",
            "|12200|            poedb.tw|            poedb.tw|220.135.224.183|\n",
            "|12575|      soranews24.com|      soranews24.com|    192.0.78.24|\n",
            "|12575|      soranews24.com|      soranews24.com|    192.0.78.25|\n",
            "|12580|         spotrac.com|         spotrac.com|  184.168.221.9|\n",
            "+-----+--------------------+--------------------+---------------+\n",
            "only showing top 20 rows\n",
            "\n"
          ]
        }
      ],
      "source": [
        "spark.sql(\"SELECT * FROM annotated_1\").show()"
      ]
    },
    {
      "cell_type": "code",
      "execution_count": null,
      "metadata": {
        "id": "Iz219JW1QV8K"
      },
      "outputs": [],
      "source": [
        "ip_stream_dir = \"/stream/ips/\"\n",
        "\n",
        "!mkdir -p $ip_stream_dir"
      ]
    },
    {
      "cell_type": "code",
      "execution_count": null,
      "metadata": {
        "id": "2HZgb1l2QV8L"
      },
      "outputs": [],
      "source": [
        "ips_stream = spark.readStream.schema(ip_schema).csv(ip_stream_dir)"
      ]
    },
    {
      "cell_type": "code",
      "execution_count": null,
      "metadata": {
        "id": "kiXGmuF2QV8L"
      },
      "outputs": [],
      "source": [
        "(\n",
        "    ips_stream\n",
        "    .join(input_stream, on=\"site\")\n",
        "    .writeStream\n",
        "    .format(\"memory\")\n",
        "    .trigger(processingTime=\"5 seconds\")\n",
        "    .queryName(\"stream_stream_2\")\n",
        "    .start()\n",
        ")"
      ]
    },
    {
      "cell_type": "code",
      "execution_count": null,
      "metadata": {
        "colab": {
          "base_uri": "https://localhost:8080/"
        },
        "id": "tyyVROIEQV8M",
        "outputId": "5d6705e2-1396-454c-9dec-1f257445c688"
      },
      "outputs": [
        {
          "output_type": "stream",
          "name": "stdout",
          "text": [
            "+--------------------+--------------+-----+\n",
            "|                site|            ip| rank|\n",
            "+--------------------+--------------+-----+\n",
            "|      triplem.com.au| 202.59.43.101|42798|\n",
            "|           ibood.com|194.233.193.45|23374|\n",
            "|       bancor.com.ar|200.45.254.228|27957|\n",
            "|           mjobs.net|109.199.116.18|62453|\n",
            "|             mba.com|107.154.102.70|20690|\n",
            "|buybitcoinworldwi...|104.27.189.130|59462|\n",
            "|            cutw.pro| 104.31.76.152|14372|\n",
            "+--------------------+--------------+-----+\n",
            "\n"
          ]
        }
      ],
      "source": [
        "spark.sql(\"SELECT * FROM stream_stream_2\").show()"
      ]
    },
    {
      "cell_type": "code",
      "source": [
        "!ls $ip_stream_dir"
      ],
      "metadata": {
        "colab": {
          "base_uri": "https://localhost:8080/"
        },
        "id": "eL-47I6wauzw",
        "outputId": "81504749-2a31-4ff6-d783-eda93d1b39e6"
      },
      "execution_count": null,
      "outputs": [
        {
          "output_type": "stream",
          "name": "stdout",
          "text": [
            "file0BeiBm  filegx73Pk\n"
          ]
        }
      ]
    },
    {
      "cell_type": "code",
      "execution_count": null,
      "metadata": {
        "id": "1irChqUiQV8M"
      },
      "outputs": [],
      "source": [
        "!shuf /content/drive/MyDrive/Programming/m5-forecasting-accuracy/data/ips | head -10000 > `tempfile -d $ip_stream_dir`"
      ]
    },
    {
      "cell_type": "code",
      "execution_count": null,
      "metadata": {
        "colab": {
          "base_uri": "https://localhost:8080/"
        },
        "id": "BTx86zi4QV8M",
        "outputId": "08988c5c-8824-4d41-d78e-490724adf68e"
      },
      "outputs": [
        {
          "output_type": "stream",
          "name": "stdout",
          "text": [
            "+--------------------+--------------+-----+\n",
            "|                site|            ip| rank|\n",
            "+--------------------+--------------+-----+\n",
            "|      triplem.com.au| 202.59.43.101|42798|\n",
            "|           ibood.com|194.233.193.45|23374|\n",
            "|       bancor.com.ar|200.45.254.228|27957|\n",
            "|           mjobs.net|109.199.116.18|62453|\n",
            "|             mba.com|107.154.102.70|20690|\n",
            "|buybitcoinworldwi...|104.27.189.130|59462|\n",
            "|            cutw.pro| 104.31.76.152|14372|\n",
            "+--------------------+--------------+-----+\n",
            "\n"
          ]
        }
      ],
      "source": [
        "spark.sql(\"SELECT * FROM stream_stream_2\").show()"
      ]
    }
  ],
  "metadata": {
    "kernelspec": {
      "display_name": "Python 3",
      "language": "python",
      "name": "python3"
    },
    "language_info": {
      "codemirror_mode": {
        "name": "ipython",
        "version": 3
      },
      "file_extension": ".py",
      "mimetype": "text/x-python",
      "name": "python",
      "nbconvert_exporter": "python",
      "pygments_lexer": "ipython3",
      "version": "3.5.3"
    },
    "colab": {
      "provenance": [],
      "include_colab_link": true
    }
  },
  "nbformat": 4,
  "nbformat_minor": 0
}
