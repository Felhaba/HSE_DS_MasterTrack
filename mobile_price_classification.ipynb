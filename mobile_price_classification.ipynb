{
  "cells": [
    {
      "cell_type": "markdown",
      "metadata": {
        "id": "view-in-github",
        "colab_type": "text"
      },
      "source": [
        "<a href=\"https://colab.research.google.com/github/Felgaba/HSE_DS_MasterTrack/blob/main/mobile_price_classification.ipynb\" target=\"_parent\"><img src=\"https://colab.research.google.com/assets/colab-badge.svg\" alt=\"Open In Colab\"/></a>"
      ]
    },
    {
      "cell_type": "markdown",
      "source": [
        "## [Mobile Price Classification](https://www.kaggle.com/datasets/iabhishekofficial/mobile-price-classification)"
      ],
      "metadata": {
        "id": "qbZhg6KVR6nR"
      }
    },
    {
      "cell_type": "markdown",
      "source": [
        "## Input"
      ],
      "metadata": {
        "application/vnd.databricks.v1+cell": {
          "title": "",
          "showTitle": false,
          "inputWidgets": {},
          "nuid": "4d27babe-0fce-45f3-af90-7ce39802cf77"
        },
        "id": "t-R6FzId88zO"
      }
    },
    {
      "cell_type": "code",
      "source": [
        "from google.colab import drive\n",
        "drive.mount('/content/drive')"
      ],
      "metadata": {
        "colab": {
          "base_uri": "https://localhost:8080/"
        },
        "id": "pZYvLMjz-DQq",
        "outputId": "7f9b0535-c6bf-4bd2-b99b-5c8d803fecf3"
      },
      "execution_count": null,
      "outputs": [
        {
          "output_type": "stream",
          "name": "stdout",
          "text": [
            "Mounted at /content/drive\n"
          ]
        }
      ]
    },
    {
      "cell_type": "code",
      "source": [
        "! pip install -q pyspark"
      ],
      "metadata": {
        "colab": {
          "base_uri": "https://localhost:8080/"
        },
        "id": "r0Vssxhq-HWV",
        "outputId": "ddb7115d-757c-484d-a6e0-6e05a6bba666"
      },
      "execution_count": null,
      "outputs": [
        {
          "output_type": "stream",
          "name": "stdout",
          "text": [
            "\u001b[K     |████████████████████████████████| 281.3 MB 42 kB/s \n",
            "\u001b[K     |████████████████████████████████| 199 kB 49.0 MB/s \n",
            "\u001b[?25h  Building wheel for pyspark (setup.py) ... \u001b[?25l\u001b[?25hdone\n"
          ]
        }
      ]
    },
    {
      "cell_type": "code",
      "source": [
        "from pyspark.sql import SparkSession\n",
        "\n",
        "spark = SparkSession.builder.getOrCreate()"
      ],
      "metadata": {
        "id": "gEC6KsIY-KnO"
      },
      "execution_count": null,
      "outputs": []
    },
    {
      "cell_type": "code",
      "source": [
        "import pyspark.sql.functions as F\n",
        "# File location and type\n",
        "file_train = '/content/drive/MyDrive/Programming/m5-forecasting-accuracy/data_mobile/train.csv'\n",
        "file_type = \"csv\"\n",
        "\n",
        "# CSV options\n",
        "infer_schema = \"true\" # try to guess variable's type\n",
        "first_row_is_header = \"true\"\n",
        "delimiter = \",\"\n",
        "\n",
        "# The applied options are for CSV files. For other file types, these will be ignored.\n",
        "df_train = spark.read.format(file_type) \\\n",
        "  .option(\"inferSchema\", infer_schema) \\\n",
        "  .option(\"header\", first_row_is_header) \\\n",
        "  .option(\"sep\", delimiter) \\\n",
        "  .load(file_train)"
      ],
      "metadata": {
        "_uuid": "d629ff2d2480ee46fbb7e2d37f6b5fab8052498a",
        "_cell_guid": "79c7e3d0-c299-4dcb-8224-4455121ee9b0",
        "trusted": true,
        "application/vnd.databricks.v1+cell": {
          "title": "",
          "showTitle": false,
          "inputWidgets": {},
          "nuid": "330e5e37-afff-46c4-8bd6-ea7936e06a73"
        },
        "id": "fr37D8oN88zU"
      },
      "outputs": [],
      "execution_count": null
    },
    {
      "cell_type": "code",
      "source": [
        "df_train.limit(10).toPandas()"
      ],
      "metadata": {
        "trusted": true,
        "application/vnd.databricks.v1+cell": {
          "title": "",
          "showTitle": false,
          "inputWidgets": {},
          "nuid": "fcd552f2-038e-4167-a44e-0ffee38bd2af"
        },
        "colab": {
          "base_uri": "https://localhost:8080/",
          "height": 392
        },
        "id": "AvwiDJSn88zX",
        "outputId": "edc7aa82-baa5-4f1b-8a83-6a3d46049508"
      },
      "outputs": [
        {
          "output_type": "execute_result",
          "data": {
            "text/plain": [
              "   battery_power  blue  clock_speed  dual_sim  fc  four_g  int_memory  m_dep  \\\n",
              "0            842     0          2.2         0   1       0           7    0.6   \n",
              "1           1021     1          0.5         1   0       1          53    0.7   \n",
              "2            563     1          0.5         1   2       1          41    0.9   \n",
              "3            615     1          2.5         0   0       0          10    0.8   \n",
              "4           1821     1          1.2         0  13       1          44    0.6   \n",
              "5           1859     0          0.5         1   3       0          22    0.7   \n",
              "6           1821     0          1.7         0   4       1          10    0.8   \n",
              "7           1954     0          0.5         1   0       0          24    0.8   \n",
              "8           1445     1          0.5         0   0       0          53    0.7   \n",
              "9            509     1          0.6         1   2       1           9    0.1   \n",
              "\n",
              "   mobile_wt  n_cores  ...  px_height  px_width   ram  sc_h  sc_w  talk_time  \\\n",
              "0        188        2  ...         20       756  2549     9     7         19   \n",
              "1        136        3  ...        905      1988  2631    17     3          7   \n",
              "2        145        5  ...       1263      1716  2603    11     2          9   \n",
              "3        131        6  ...       1216      1786  2769    16     8         11   \n",
              "4        141        2  ...       1208      1212  1411     8     2         15   \n",
              "5        164        1  ...       1004      1654  1067    17     1         10   \n",
              "6        139        8  ...        381      1018  3220    13     8         18   \n",
              "7        187        4  ...        512      1149   700    16     3          5   \n",
              "8        174        7  ...        386       836  1099    17     1         20   \n",
              "9         93        5  ...       1137      1224   513    19    10         12   \n",
              "\n",
              "   three_g  touch_screen  wifi  price_range  \n",
              "0        0             0     1            1  \n",
              "1        1             1     0            2  \n",
              "2        1             1     0            2  \n",
              "3        1             0     0            2  \n",
              "4        1             1     0            1  \n",
              "5        1             0     0            1  \n",
              "6        1             0     1            3  \n",
              "7        1             1     1            0  \n",
              "8        1             0     0            0  \n",
              "9        1             0     0            0  \n",
              "\n",
              "[10 rows x 21 columns]"
            ],
            "text/html": [
              "\n",
              "  <div id=\"df-21f1970c-72a2-4b63-8f2f-10c3bc0b1b8a\">\n",
              "    <div class=\"colab-df-container\">\n",
              "      <div>\n",
              "<style scoped>\n",
              "    .dataframe tbody tr th:only-of-type {\n",
              "        vertical-align: middle;\n",
              "    }\n",
              "\n",
              "    .dataframe tbody tr th {\n",
              "        vertical-align: top;\n",
              "    }\n",
              "\n",
              "    .dataframe thead th {\n",
              "        text-align: right;\n",
              "    }\n",
              "</style>\n",
              "<table border=\"1\" class=\"dataframe\">\n",
              "  <thead>\n",
              "    <tr style=\"text-align: right;\">\n",
              "      <th></th>\n",
              "      <th>battery_power</th>\n",
              "      <th>blue</th>\n",
              "      <th>clock_speed</th>\n",
              "      <th>dual_sim</th>\n",
              "      <th>fc</th>\n",
              "      <th>four_g</th>\n",
              "      <th>int_memory</th>\n",
              "      <th>m_dep</th>\n",
              "      <th>mobile_wt</th>\n",
              "      <th>n_cores</th>\n",
              "      <th>...</th>\n",
              "      <th>px_height</th>\n",
              "      <th>px_width</th>\n",
              "      <th>ram</th>\n",
              "      <th>sc_h</th>\n",
              "      <th>sc_w</th>\n",
              "      <th>talk_time</th>\n",
              "      <th>three_g</th>\n",
              "      <th>touch_screen</th>\n",
              "      <th>wifi</th>\n",
              "      <th>price_range</th>\n",
              "    </tr>\n",
              "  </thead>\n",
              "  <tbody>\n",
              "    <tr>\n",
              "      <th>0</th>\n",
              "      <td>842</td>\n",
              "      <td>0</td>\n",
              "      <td>2.2</td>\n",
              "      <td>0</td>\n",
              "      <td>1</td>\n",
              "      <td>0</td>\n",
              "      <td>7</td>\n",
              "      <td>0.6</td>\n",
              "      <td>188</td>\n",
              "      <td>2</td>\n",
              "      <td>...</td>\n",
              "      <td>20</td>\n",
              "      <td>756</td>\n",
              "      <td>2549</td>\n",
              "      <td>9</td>\n",
              "      <td>7</td>\n",
              "      <td>19</td>\n",
              "      <td>0</td>\n",
              "      <td>0</td>\n",
              "      <td>1</td>\n",
              "      <td>1</td>\n",
              "    </tr>\n",
              "    <tr>\n",
              "      <th>1</th>\n",
              "      <td>1021</td>\n",
              "      <td>1</td>\n",
              "      <td>0.5</td>\n",
              "      <td>1</td>\n",
              "      <td>0</td>\n",
              "      <td>1</td>\n",
              "      <td>53</td>\n",
              "      <td>0.7</td>\n",
              "      <td>136</td>\n",
              "      <td>3</td>\n",
              "      <td>...</td>\n",
              "      <td>905</td>\n",
              "      <td>1988</td>\n",
              "      <td>2631</td>\n",
              "      <td>17</td>\n",
              "      <td>3</td>\n",
              "      <td>7</td>\n",
              "      <td>1</td>\n",
              "      <td>1</td>\n",
              "      <td>0</td>\n",
              "      <td>2</td>\n",
              "    </tr>\n",
              "    <tr>\n",
              "      <th>2</th>\n",
              "      <td>563</td>\n",
              "      <td>1</td>\n",
              "      <td>0.5</td>\n",
              "      <td>1</td>\n",
              "      <td>2</td>\n",
              "      <td>1</td>\n",
              "      <td>41</td>\n",
              "      <td>0.9</td>\n",
              "      <td>145</td>\n",
              "      <td>5</td>\n",
              "      <td>...</td>\n",
              "      <td>1263</td>\n",
              "      <td>1716</td>\n",
              "      <td>2603</td>\n",
              "      <td>11</td>\n",
              "      <td>2</td>\n",
              "      <td>9</td>\n",
              "      <td>1</td>\n",
              "      <td>1</td>\n",
              "      <td>0</td>\n",
              "      <td>2</td>\n",
              "    </tr>\n",
              "    <tr>\n",
              "      <th>3</th>\n",
              "      <td>615</td>\n",
              "      <td>1</td>\n",
              "      <td>2.5</td>\n",
              "      <td>0</td>\n",
              "      <td>0</td>\n",
              "      <td>0</td>\n",
              "      <td>10</td>\n",
              "      <td>0.8</td>\n",
              "      <td>131</td>\n",
              "      <td>6</td>\n",
              "      <td>...</td>\n",
              "      <td>1216</td>\n",
              "      <td>1786</td>\n",
              "      <td>2769</td>\n",
              "      <td>16</td>\n",
              "      <td>8</td>\n",
              "      <td>11</td>\n",
              "      <td>1</td>\n",
              "      <td>0</td>\n",
              "      <td>0</td>\n",
              "      <td>2</td>\n",
              "    </tr>\n",
              "    <tr>\n",
              "      <th>4</th>\n",
              "      <td>1821</td>\n",
              "      <td>1</td>\n",
              "      <td>1.2</td>\n",
              "      <td>0</td>\n",
              "      <td>13</td>\n",
              "      <td>1</td>\n",
              "      <td>44</td>\n",
              "      <td>0.6</td>\n",
              "      <td>141</td>\n",
              "      <td>2</td>\n",
              "      <td>...</td>\n",
              "      <td>1208</td>\n",
              "      <td>1212</td>\n",
              "      <td>1411</td>\n",
              "      <td>8</td>\n",
              "      <td>2</td>\n",
              "      <td>15</td>\n",
              "      <td>1</td>\n",
              "      <td>1</td>\n",
              "      <td>0</td>\n",
              "      <td>1</td>\n",
              "    </tr>\n",
              "    <tr>\n",
              "      <th>5</th>\n",
              "      <td>1859</td>\n",
              "      <td>0</td>\n",
              "      <td>0.5</td>\n",
              "      <td>1</td>\n",
              "      <td>3</td>\n",
              "      <td>0</td>\n",
              "      <td>22</td>\n",
              "      <td>0.7</td>\n",
              "      <td>164</td>\n",
              "      <td>1</td>\n",
              "      <td>...</td>\n",
              "      <td>1004</td>\n",
              "      <td>1654</td>\n",
              "      <td>1067</td>\n",
              "      <td>17</td>\n",
              "      <td>1</td>\n",
              "      <td>10</td>\n",
              "      <td>1</td>\n",
              "      <td>0</td>\n",
              "      <td>0</td>\n",
              "      <td>1</td>\n",
              "    </tr>\n",
              "    <tr>\n",
              "      <th>6</th>\n",
              "      <td>1821</td>\n",
              "      <td>0</td>\n",
              "      <td>1.7</td>\n",
              "      <td>0</td>\n",
              "      <td>4</td>\n",
              "      <td>1</td>\n",
              "      <td>10</td>\n",
              "      <td>0.8</td>\n",
              "      <td>139</td>\n",
              "      <td>8</td>\n",
              "      <td>...</td>\n",
              "      <td>381</td>\n",
              "      <td>1018</td>\n",
              "      <td>3220</td>\n",
              "      <td>13</td>\n",
              "      <td>8</td>\n",
              "      <td>18</td>\n",
              "      <td>1</td>\n",
              "      <td>0</td>\n",
              "      <td>1</td>\n",
              "      <td>3</td>\n",
              "    </tr>\n",
              "    <tr>\n",
              "      <th>7</th>\n",
              "      <td>1954</td>\n",
              "      <td>0</td>\n",
              "      <td>0.5</td>\n",
              "      <td>1</td>\n",
              "      <td>0</td>\n",
              "      <td>0</td>\n",
              "      <td>24</td>\n",
              "      <td>0.8</td>\n",
              "      <td>187</td>\n",
              "      <td>4</td>\n",
              "      <td>...</td>\n",
              "      <td>512</td>\n",
              "      <td>1149</td>\n",
              "      <td>700</td>\n",
              "      <td>16</td>\n",
              "      <td>3</td>\n",
              "      <td>5</td>\n",
              "      <td>1</td>\n",
              "      <td>1</td>\n",
              "      <td>1</td>\n",
              "      <td>0</td>\n",
              "    </tr>\n",
              "    <tr>\n",
              "      <th>8</th>\n",
              "      <td>1445</td>\n",
              "      <td>1</td>\n",
              "      <td>0.5</td>\n",
              "      <td>0</td>\n",
              "      <td>0</td>\n",
              "      <td>0</td>\n",
              "      <td>53</td>\n",
              "      <td>0.7</td>\n",
              "      <td>174</td>\n",
              "      <td>7</td>\n",
              "      <td>...</td>\n",
              "      <td>386</td>\n",
              "      <td>836</td>\n",
              "      <td>1099</td>\n",
              "      <td>17</td>\n",
              "      <td>1</td>\n",
              "      <td>20</td>\n",
              "      <td>1</td>\n",
              "      <td>0</td>\n",
              "      <td>0</td>\n",
              "      <td>0</td>\n",
              "    </tr>\n",
              "    <tr>\n",
              "      <th>9</th>\n",
              "      <td>509</td>\n",
              "      <td>1</td>\n",
              "      <td>0.6</td>\n",
              "      <td>1</td>\n",
              "      <td>2</td>\n",
              "      <td>1</td>\n",
              "      <td>9</td>\n",
              "      <td>0.1</td>\n",
              "      <td>93</td>\n",
              "      <td>5</td>\n",
              "      <td>...</td>\n",
              "      <td>1137</td>\n",
              "      <td>1224</td>\n",
              "      <td>513</td>\n",
              "      <td>19</td>\n",
              "      <td>10</td>\n",
              "      <td>12</td>\n",
              "      <td>1</td>\n",
              "      <td>0</td>\n",
              "      <td>0</td>\n",
              "      <td>0</td>\n",
              "    </tr>\n",
              "  </tbody>\n",
              "</table>\n",
              "<p>10 rows × 21 columns</p>\n",
              "</div>\n",
              "      <button class=\"colab-df-convert\" onclick=\"convertToInteractive('df-21f1970c-72a2-4b63-8f2f-10c3bc0b1b8a')\"\n",
              "              title=\"Convert this dataframe to an interactive table.\"\n",
              "              style=\"display:none;\">\n",
              "        \n",
              "  <svg xmlns=\"http://www.w3.org/2000/svg\" height=\"24px\"viewBox=\"0 0 24 24\"\n",
              "       width=\"24px\">\n",
              "    <path d=\"M0 0h24v24H0V0z\" fill=\"none\"/>\n",
              "    <path d=\"M18.56 5.44l.94 2.06.94-2.06 2.06-.94-2.06-.94-.94-2.06-.94 2.06-2.06.94zm-11 1L8.5 8.5l.94-2.06 2.06-.94-2.06-.94L8.5 2.5l-.94 2.06-2.06.94zm10 10l.94 2.06.94-2.06 2.06-.94-2.06-.94-.94-2.06-.94 2.06-2.06.94z\"/><path d=\"M17.41 7.96l-1.37-1.37c-.4-.4-.92-.59-1.43-.59-.52 0-1.04.2-1.43.59L10.3 9.45l-7.72 7.72c-.78.78-.78 2.05 0 2.83L4 21.41c.39.39.9.59 1.41.59.51 0 1.02-.2 1.41-.59l7.78-7.78 2.81-2.81c.8-.78.8-2.07 0-2.86zM5.41 20L4 18.59l7.72-7.72 1.47 1.35L5.41 20z\"/>\n",
              "  </svg>\n",
              "      </button>\n",
              "      \n",
              "  <style>\n",
              "    .colab-df-container {\n",
              "      display:flex;\n",
              "      flex-wrap:wrap;\n",
              "      gap: 12px;\n",
              "    }\n",
              "\n",
              "    .colab-df-convert {\n",
              "      background-color: #E8F0FE;\n",
              "      border: none;\n",
              "      border-radius: 50%;\n",
              "      cursor: pointer;\n",
              "      display: none;\n",
              "      fill: #1967D2;\n",
              "      height: 32px;\n",
              "      padding: 0 0 0 0;\n",
              "      width: 32px;\n",
              "    }\n",
              "\n",
              "    .colab-df-convert:hover {\n",
              "      background-color: #E2EBFA;\n",
              "      box-shadow: 0px 1px 2px rgba(60, 64, 67, 0.3), 0px 1px 3px 1px rgba(60, 64, 67, 0.15);\n",
              "      fill: #174EA6;\n",
              "    }\n",
              "\n",
              "    [theme=dark] .colab-df-convert {\n",
              "      background-color: #3B4455;\n",
              "      fill: #D2E3FC;\n",
              "    }\n",
              "\n",
              "    [theme=dark] .colab-df-convert:hover {\n",
              "      background-color: #434B5C;\n",
              "      box-shadow: 0px 1px 3px 1px rgba(0, 0, 0, 0.15);\n",
              "      filter: drop-shadow(0px 1px 2px rgba(0, 0, 0, 0.3));\n",
              "      fill: #FFFFFF;\n",
              "    }\n",
              "  </style>\n",
              "\n",
              "      <script>\n",
              "        const buttonEl =\n",
              "          document.querySelector('#df-21f1970c-72a2-4b63-8f2f-10c3bc0b1b8a button.colab-df-convert');\n",
              "        buttonEl.style.display =\n",
              "          google.colab.kernel.accessAllowed ? 'block' : 'none';\n",
              "\n",
              "        async function convertToInteractive(key) {\n",
              "          const element = document.querySelector('#df-21f1970c-72a2-4b63-8f2f-10c3bc0b1b8a');\n",
              "          const dataTable =\n",
              "            await google.colab.kernel.invokeFunction('convertToInteractive',\n",
              "                                                     [key], {});\n",
              "          if (!dataTable) return;\n",
              "\n",
              "          const docLinkHtml = 'Like what you see? Visit the ' +\n",
              "            '<a target=\"_blank\" href=https://colab.research.google.com/notebooks/data_table.ipynb>data table notebook</a>'\n",
              "            + ' to learn more about interactive tables.';\n",
              "          element.innerHTML = '';\n",
              "          dataTable['output_type'] = 'display_data';\n",
              "          await google.colab.output.renderOutput(dataTable, element);\n",
              "          const docLink = document.createElement('div');\n",
              "          docLink.innerHTML = docLinkHtml;\n",
              "          element.appendChild(docLink);\n",
              "        }\n",
              "      </script>\n",
              "    </div>\n",
              "  </div>\n",
              "  "
            ]
          },
          "metadata": {},
          "execution_count": 20
        }
      ],
      "execution_count": null
    },
    {
      "cell_type": "code",
      "source": [
        "LABEL_COL=\"price_range\"\n",
        "FEATURES_COL= [col for col in df_train.columns if col != LABEL_COL]"
      ],
      "metadata": {
        "application/vnd.databricks.v1+cell": {
          "title": "",
          "showTitle": false,
          "inputWidgets": {},
          "nuid": "3f75e4cd-9ba7-4647-a5a0-7031c0de2dea"
        },
        "id": "c8zOO_C-88zY"
      },
      "outputs": [],
      "execution_count": null
    },
    {
      "cell_type": "code",
      "source": [
        "df_train.describe(FEATURES_COL).toPandas()"
      ],
      "metadata": {
        "application/vnd.databricks.v1+cell": {
          "title": "",
          "showTitle": false,
          "inputWidgets": {},
          "nuid": "6810d06e-275c-4e26-aca1-5d509c3f06d1"
        },
        "id": "tQjZY6L988zY",
        "outputId": "ff966380-dbc8-4261-cfe6-3ae146a1767a",
        "colab": {
          "base_uri": "https://localhost:8080/",
          "height": 299
        }
      },
      "outputs": [
        {
          "output_type": "execute_result",
          "data": {
            "text/plain": [
              "  summary      battery_power                blue         clock_speed  \\\n",
              "0   count               2000                2000                2000   \n",
              "1    mean          1238.5185               0.495  1.5222499999999983   \n",
              "2  stddev  439.4182060835313  0.5001000400170073   0.816004208895068   \n",
              "3     min                501                   0                 0.5   \n",
              "4     max               1998                   1                 3.0   \n",
              "\n",
              "             dual_sim                 fc               four_g  \\\n",
              "0                2000               2000                 2000   \n",
              "1              0.5095             4.3095               0.5215   \n",
              "2  0.5000347661750049  4.341443747983898  0.49966246736236364   \n",
              "3                   0                  0                    0   \n",
              "4                   1                 19                    1   \n",
              "\n",
              "           int_memory               m_dep          mobile_wt  ...  \\\n",
              "0                2000                2000               2000  ...   \n",
              "1             32.0465  0.5017500000000017            140.249  ...   \n",
              "2  18.145714955206856  0.2884155496235117  35.39965489638834  ...   \n",
              "3                   2                 0.1                 80  ...   \n",
              "4                  64                 1.0                200  ...   \n",
              "\n",
              "                  pc           px_height           px_width  \\\n",
              "0               2000                2000               2000   \n",
              "1             9.9165             645.108          1251.5155   \n",
              "2  6.064314941347778  443.78081080643824  432.1994469463379   \n",
              "3                  0                   0                500   \n",
              "4                 20                1960               1998   \n",
              "\n",
              "                  ram               sc_h               sc_w  \\\n",
              "0                2000               2000               2000   \n",
              "1            2124.213            12.3065              5.767   \n",
              "2  1084.7320436099492  4.213245004356303  4.356397605826408   \n",
              "3                 256                  5                  0   \n",
              "4                3998                 19                 18   \n",
              "\n",
              "           talk_time            three_g        touch_screen  \\\n",
              "0               2000               2000                2000   \n",
              "1             11.011             0.7615               0.503   \n",
              "2  5.463955197766688  0.426272922318731  0.5001160445626741   \n",
              "3                  2                  0                   0   \n",
              "4                 20                  1                   1   \n",
              "\n",
              "                 wifi  \n",
              "0                2000  \n",
              "1               0.507  \n",
              "2  0.5000760322381088  \n",
              "3                   0  \n",
              "4                   1  \n",
              "\n",
              "[5 rows x 21 columns]"
            ],
            "text/html": [
              "\n",
              "  <div id=\"df-28c7dd45-7ab1-4f48-9d7a-fc06c577a261\">\n",
              "    <div class=\"colab-df-container\">\n",
              "      <div>\n",
              "<style scoped>\n",
              "    .dataframe tbody tr th:only-of-type {\n",
              "        vertical-align: middle;\n",
              "    }\n",
              "\n",
              "    .dataframe tbody tr th {\n",
              "        vertical-align: top;\n",
              "    }\n",
              "\n",
              "    .dataframe thead th {\n",
              "        text-align: right;\n",
              "    }\n",
              "</style>\n",
              "<table border=\"1\" class=\"dataframe\">\n",
              "  <thead>\n",
              "    <tr style=\"text-align: right;\">\n",
              "      <th></th>\n",
              "      <th>summary</th>\n",
              "      <th>battery_power</th>\n",
              "      <th>blue</th>\n",
              "      <th>clock_speed</th>\n",
              "      <th>dual_sim</th>\n",
              "      <th>fc</th>\n",
              "      <th>four_g</th>\n",
              "      <th>int_memory</th>\n",
              "      <th>m_dep</th>\n",
              "      <th>mobile_wt</th>\n",
              "      <th>...</th>\n",
              "      <th>pc</th>\n",
              "      <th>px_height</th>\n",
              "      <th>px_width</th>\n",
              "      <th>ram</th>\n",
              "      <th>sc_h</th>\n",
              "      <th>sc_w</th>\n",
              "      <th>talk_time</th>\n",
              "      <th>three_g</th>\n",
              "      <th>touch_screen</th>\n",
              "      <th>wifi</th>\n",
              "    </tr>\n",
              "  </thead>\n",
              "  <tbody>\n",
              "    <tr>\n",
              "      <th>0</th>\n",
              "      <td>count</td>\n",
              "      <td>2000</td>\n",
              "      <td>2000</td>\n",
              "      <td>2000</td>\n",
              "      <td>2000</td>\n",
              "      <td>2000</td>\n",
              "      <td>2000</td>\n",
              "      <td>2000</td>\n",
              "      <td>2000</td>\n",
              "      <td>2000</td>\n",
              "      <td>...</td>\n",
              "      <td>2000</td>\n",
              "      <td>2000</td>\n",
              "      <td>2000</td>\n",
              "      <td>2000</td>\n",
              "      <td>2000</td>\n",
              "      <td>2000</td>\n",
              "      <td>2000</td>\n",
              "      <td>2000</td>\n",
              "      <td>2000</td>\n",
              "      <td>2000</td>\n",
              "    </tr>\n",
              "    <tr>\n",
              "      <th>1</th>\n",
              "      <td>mean</td>\n",
              "      <td>1238.5185</td>\n",
              "      <td>0.495</td>\n",
              "      <td>1.5222499999999983</td>\n",
              "      <td>0.5095</td>\n",
              "      <td>4.3095</td>\n",
              "      <td>0.5215</td>\n",
              "      <td>32.0465</td>\n",
              "      <td>0.5017500000000017</td>\n",
              "      <td>140.249</td>\n",
              "      <td>...</td>\n",
              "      <td>9.9165</td>\n",
              "      <td>645.108</td>\n",
              "      <td>1251.5155</td>\n",
              "      <td>2124.213</td>\n",
              "      <td>12.3065</td>\n",
              "      <td>5.767</td>\n",
              "      <td>11.011</td>\n",
              "      <td>0.7615</td>\n",
              "      <td>0.503</td>\n",
              "      <td>0.507</td>\n",
              "    </tr>\n",
              "    <tr>\n",
              "      <th>2</th>\n",
              "      <td>stddev</td>\n",
              "      <td>439.4182060835313</td>\n",
              "      <td>0.5001000400170073</td>\n",
              "      <td>0.816004208895068</td>\n",
              "      <td>0.5000347661750049</td>\n",
              "      <td>4.341443747983898</td>\n",
              "      <td>0.49966246736236364</td>\n",
              "      <td>18.145714955206856</td>\n",
              "      <td>0.2884155496235117</td>\n",
              "      <td>35.39965489638834</td>\n",
              "      <td>...</td>\n",
              "      <td>6.064314941347778</td>\n",
              "      <td>443.78081080643824</td>\n",
              "      <td>432.1994469463379</td>\n",
              "      <td>1084.7320436099492</td>\n",
              "      <td>4.213245004356303</td>\n",
              "      <td>4.356397605826408</td>\n",
              "      <td>5.463955197766688</td>\n",
              "      <td>0.426272922318731</td>\n",
              "      <td>0.5001160445626741</td>\n",
              "      <td>0.5000760322381088</td>\n",
              "    </tr>\n",
              "    <tr>\n",
              "      <th>3</th>\n",
              "      <td>min</td>\n",
              "      <td>501</td>\n",
              "      <td>0</td>\n",
              "      <td>0.5</td>\n",
              "      <td>0</td>\n",
              "      <td>0</td>\n",
              "      <td>0</td>\n",
              "      <td>2</td>\n",
              "      <td>0.1</td>\n",
              "      <td>80</td>\n",
              "      <td>...</td>\n",
              "      <td>0</td>\n",
              "      <td>0</td>\n",
              "      <td>500</td>\n",
              "      <td>256</td>\n",
              "      <td>5</td>\n",
              "      <td>0</td>\n",
              "      <td>2</td>\n",
              "      <td>0</td>\n",
              "      <td>0</td>\n",
              "      <td>0</td>\n",
              "    </tr>\n",
              "    <tr>\n",
              "      <th>4</th>\n",
              "      <td>max</td>\n",
              "      <td>1998</td>\n",
              "      <td>1</td>\n",
              "      <td>3.0</td>\n",
              "      <td>1</td>\n",
              "      <td>19</td>\n",
              "      <td>1</td>\n",
              "      <td>64</td>\n",
              "      <td>1.0</td>\n",
              "      <td>200</td>\n",
              "      <td>...</td>\n",
              "      <td>20</td>\n",
              "      <td>1960</td>\n",
              "      <td>1998</td>\n",
              "      <td>3998</td>\n",
              "      <td>19</td>\n",
              "      <td>18</td>\n",
              "      <td>20</td>\n",
              "      <td>1</td>\n",
              "      <td>1</td>\n",
              "      <td>1</td>\n",
              "    </tr>\n",
              "  </tbody>\n",
              "</table>\n",
              "<p>5 rows × 21 columns</p>\n",
              "</div>\n",
              "      <button class=\"colab-df-convert\" onclick=\"convertToInteractive('df-28c7dd45-7ab1-4f48-9d7a-fc06c577a261')\"\n",
              "              title=\"Convert this dataframe to an interactive table.\"\n",
              "              style=\"display:none;\">\n",
              "        \n",
              "  <svg xmlns=\"http://www.w3.org/2000/svg\" height=\"24px\"viewBox=\"0 0 24 24\"\n",
              "       width=\"24px\">\n",
              "    <path d=\"M0 0h24v24H0V0z\" fill=\"none\"/>\n",
              "    <path d=\"M18.56 5.44l.94 2.06.94-2.06 2.06-.94-2.06-.94-.94-2.06-.94 2.06-2.06.94zm-11 1L8.5 8.5l.94-2.06 2.06-.94-2.06-.94L8.5 2.5l-.94 2.06-2.06.94zm10 10l.94 2.06.94-2.06 2.06-.94-2.06-.94-.94-2.06-.94 2.06-2.06.94z\"/><path d=\"M17.41 7.96l-1.37-1.37c-.4-.4-.92-.59-1.43-.59-.52 0-1.04.2-1.43.59L10.3 9.45l-7.72 7.72c-.78.78-.78 2.05 0 2.83L4 21.41c.39.39.9.59 1.41.59.51 0 1.02-.2 1.41-.59l7.78-7.78 2.81-2.81c.8-.78.8-2.07 0-2.86zM5.41 20L4 18.59l7.72-7.72 1.47 1.35L5.41 20z\"/>\n",
              "  </svg>\n",
              "      </button>\n",
              "      \n",
              "  <style>\n",
              "    .colab-df-container {\n",
              "      display:flex;\n",
              "      flex-wrap:wrap;\n",
              "      gap: 12px;\n",
              "    }\n",
              "\n",
              "    .colab-df-convert {\n",
              "      background-color: #E8F0FE;\n",
              "      border: none;\n",
              "      border-radius: 50%;\n",
              "      cursor: pointer;\n",
              "      display: none;\n",
              "      fill: #1967D2;\n",
              "      height: 32px;\n",
              "      padding: 0 0 0 0;\n",
              "      width: 32px;\n",
              "    }\n",
              "\n",
              "    .colab-df-convert:hover {\n",
              "      background-color: #E2EBFA;\n",
              "      box-shadow: 0px 1px 2px rgba(60, 64, 67, 0.3), 0px 1px 3px 1px rgba(60, 64, 67, 0.15);\n",
              "      fill: #174EA6;\n",
              "    }\n",
              "\n",
              "    [theme=dark] .colab-df-convert {\n",
              "      background-color: #3B4455;\n",
              "      fill: #D2E3FC;\n",
              "    }\n",
              "\n",
              "    [theme=dark] .colab-df-convert:hover {\n",
              "      background-color: #434B5C;\n",
              "      box-shadow: 0px 1px 3px 1px rgba(0, 0, 0, 0.15);\n",
              "      filter: drop-shadow(0px 1px 2px rgba(0, 0, 0, 0.3));\n",
              "      fill: #FFFFFF;\n",
              "    }\n",
              "  </style>\n",
              "\n",
              "      <script>\n",
              "        const buttonEl =\n",
              "          document.querySelector('#df-28c7dd45-7ab1-4f48-9d7a-fc06c577a261 button.colab-df-convert');\n",
              "        buttonEl.style.display =\n",
              "          google.colab.kernel.accessAllowed ? 'block' : 'none';\n",
              "\n",
              "        async function convertToInteractive(key) {\n",
              "          const element = document.querySelector('#df-28c7dd45-7ab1-4f48-9d7a-fc06c577a261');\n",
              "          const dataTable =\n",
              "            await google.colab.kernel.invokeFunction('convertToInteractive',\n",
              "                                                     [key], {});\n",
              "          if (!dataTable) return;\n",
              "\n",
              "          const docLinkHtml = 'Like what you see? Visit the ' +\n",
              "            '<a target=\"_blank\" href=https://colab.research.google.com/notebooks/data_table.ipynb>data table notebook</a>'\n",
              "            + ' to learn more about interactive tables.';\n",
              "          element.innerHTML = '';\n",
              "          dataTable['output_type'] = 'display_data';\n",
              "          await google.colab.output.renderOutput(dataTable, element);\n",
              "          const docLink = document.createElement('div');\n",
              "          docLink.innerHTML = docLinkHtml;\n",
              "          element.appendChild(docLink);\n",
              "        }\n",
              "      </script>\n",
              "    </div>\n",
              "  </div>\n",
              "  "
            ]
          },
          "metadata": {},
          "execution_count": 22
        }
      ],
      "execution_count": null
    },
    {
      "cell_type": "code",
      "source": [
        "df_train[FEATURES_COL].summary().toPandas()"
      ],
      "metadata": {
        "application/vnd.databricks.v1+cell": {
          "title": "",
          "showTitle": false,
          "inputWidgets": {},
          "nuid": "78f93449-1b4d-428f-a812-20ed1eaab6eb"
        },
        "colab": {
          "base_uri": "https://localhost:8080/",
          "height": 394
        },
        "id": "s8cbgvCF88zY",
        "outputId": "220d79c1-3620-40d6-fdba-cb610f579604"
      },
      "outputs": [
        {
          "output_type": "execute_result",
          "data": {
            "text/plain": [
              "  summary      battery_power                blue         clock_speed  \\\n",
              "0   count               2000                2000                2000   \n",
              "1    mean          1238.5185               0.495  1.5222499999999983   \n",
              "2  stddev  439.4182060835313  0.5001000400170073   0.816004208895068   \n",
              "3     min                501                   0                 0.5   \n",
              "4     25%                851                   0                 0.7   \n",
              "5     50%               1225                   0                 1.5   \n",
              "6     75%               1615                   1                 2.2   \n",
              "7     max               1998                   1                 3.0   \n",
              "\n",
              "             dual_sim                 fc               four_g  \\\n",
              "0                2000               2000                 2000   \n",
              "1              0.5095             4.3095               0.5215   \n",
              "2  0.5000347661750049  4.341443747983898  0.49966246736236364   \n",
              "3                   0                  0                    0   \n",
              "4                   0                  1                    0   \n",
              "5                   1                  3                    1   \n",
              "6                   1                  7                    1   \n",
              "7                   1                 19                    1   \n",
              "\n",
              "           int_memory               m_dep          mobile_wt  ...  \\\n",
              "0                2000                2000               2000  ...   \n",
              "1             32.0465  0.5017500000000017            140.249  ...   \n",
              "2  18.145714955206856  0.2884155496235117  35.39965489638834  ...   \n",
              "3                   2                 0.1                 80  ...   \n",
              "4                  16                 0.2                109  ...   \n",
              "5                  32                 0.5                141  ...   \n",
              "6                  48                 0.8                170  ...   \n",
              "7                  64                 1.0                200  ...   \n",
              "\n",
              "                  pc           px_height           px_width  \\\n",
              "0               2000                2000               2000   \n",
              "1             9.9165             645.108          1251.5155   \n",
              "2  6.064314941347778  443.78081080643824  432.1994469463379   \n",
              "3                  0                   0                500   \n",
              "4                  5                 282                874   \n",
              "5                 10                 564               1247   \n",
              "6                 15                 947               1633   \n",
              "7                 20                1960               1998   \n",
              "\n",
              "                  ram               sc_h               sc_w  \\\n",
              "0                2000               2000               2000   \n",
              "1            2124.213            12.3065              5.767   \n",
              "2  1084.7320436099492  4.213245004356303  4.356397605826408   \n",
              "3                 256                  5                  0   \n",
              "4                1206                  9                  2   \n",
              "5                2146                 12                  5   \n",
              "6                3064                 16                  9   \n",
              "7                3998                 19                 18   \n",
              "\n",
              "           talk_time            three_g        touch_screen  \\\n",
              "0               2000               2000                2000   \n",
              "1             11.011             0.7615               0.503   \n",
              "2  5.463955197766688  0.426272922318731  0.5001160445626741   \n",
              "3                  2                  0                   0   \n",
              "4                  6                  1                   0   \n",
              "5                 11                  1                   1   \n",
              "6                 16                  1                   1   \n",
              "7                 20                  1                   1   \n",
              "\n",
              "                 wifi  \n",
              "0                2000  \n",
              "1               0.507  \n",
              "2  0.5000760322381088  \n",
              "3                   0  \n",
              "4                   0  \n",
              "5                   1  \n",
              "6                   1  \n",
              "7                   1  \n",
              "\n",
              "[8 rows x 21 columns]"
            ],
            "text/html": [
              "\n",
              "  <div id=\"df-8bab26ac-3d7a-461d-b827-10e5a67ca790\">\n",
              "    <div class=\"colab-df-container\">\n",
              "      <div>\n",
              "<style scoped>\n",
              "    .dataframe tbody tr th:only-of-type {\n",
              "        vertical-align: middle;\n",
              "    }\n",
              "\n",
              "    .dataframe tbody tr th {\n",
              "        vertical-align: top;\n",
              "    }\n",
              "\n",
              "    .dataframe thead th {\n",
              "        text-align: right;\n",
              "    }\n",
              "</style>\n",
              "<table border=\"1\" class=\"dataframe\">\n",
              "  <thead>\n",
              "    <tr style=\"text-align: right;\">\n",
              "      <th></th>\n",
              "      <th>summary</th>\n",
              "      <th>battery_power</th>\n",
              "      <th>blue</th>\n",
              "      <th>clock_speed</th>\n",
              "      <th>dual_sim</th>\n",
              "      <th>fc</th>\n",
              "      <th>four_g</th>\n",
              "      <th>int_memory</th>\n",
              "      <th>m_dep</th>\n",
              "      <th>mobile_wt</th>\n",
              "      <th>...</th>\n",
              "      <th>pc</th>\n",
              "      <th>px_height</th>\n",
              "      <th>px_width</th>\n",
              "      <th>ram</th>\n",
              "      <th>sc_h</th>\n",
              "      <th>sc_w</th>\n",
              "      <th>talk_time</th>\n",
              "      <th>three_g</th>\n",
              "      <th>touch_screen</th>\n",
              "      <th>wifi</th>\n",
              "    </tr>\n",
              "  </thead>\n",
              "  <tbody>\n",
              "    <tr>\n",
              "      <th>0</th>\n",
              "      <td>count</td>\n",
              "      <td>2000</td>\n",
              "      <td>2000</td>\n",
              "      <td>2000</td>\n",
              "      <td>2000</td>\n",
              "      <td>2000</td>\n",
              "      <td>2000</td>\n",
              "      <td>2000</td>\n",
              "      <td>2000</td>\n",
              "      <td>2000</td>\n",
              "      <td>...</td>\n",
              "      <td>2000</td>\n",
              "      <td>2000</td>\n",
              "      <td>2000</td>\n",
              "      <td>2000</td>\n",
              "      <td>2000</td>\n",
              "      <td>2000</td>\n",
              "      <td>2000</td>\n",
              "      <td>2000</td>\n",
              "      <td>2000</td>\n",
              "      <td>2000</td>\n",
              "    </tr>\n",
              "    <tr>\n",
              "      <th>1</th>\n",
              "      <td>mean</td>\n",
              "      <td>1238.5185</td>\n",
              "      <td>0.495</td>\n",
              "      <td>1.5222499999999983</td>\n",
              "      <td>0.5095</td>\n",
              "      <td>4.3095</td>\n",
              "      <td>0.5215</td>\n",
              "      <td>32.0465</td>\n",
              "      <td>0.5017500000000017</td>\n",
              "      <td>140.249</td>\n",
              "      <td>...</td>\n",
              "      <td>9.9165</td>\n",
              "      <td>645.108</td>\n",
              "      <td>1251.5155</td>\n",
              "      <td>2124.213</td>\n",
              "      <td>12.3065</td>\n",
              "      <td>5.767</td>\n",
              "      <td>11.011</td>\n",
              "      <td>0.7615</td>\n",
              "      <td>0.503</td>\n",
              "      <td>0.507</td>\n",
              "    </tr>\n",
              "    <tr>\n",
              "      <th>2</th>\n",
              "      <td>stddev</td>\n",
              "      <td>439.4182060835313</td>\n",
              "      <td>0.5001000400170073</td>\n",
              "      <td>0.816004208895068</td>\n",
              "      <td>0.5000347661750049</td>\n",
              "      <td>4.341443747983898</td>\n",
              "      <td>0.49966246736236364</td>\n",
              "      <td>18.145714955206856</td>\n",
              "      <td>0.2884155496235117</td>\n",
              "      <td>35.39965489638834</td>\n",
              "      <td>...</td>\n",
              "      <td>6.064314941347778</td>\n",
              "      <td>443.78081080643824</td>\n",
              "      <td>432.1994469463379</td>\n",
              "      <td>1084.7320436099492</td>\n",
              "      <td>4.213245004356303</td>\n",
              "      <td>4.356397605826408</td>\n",
              "      <td>5.463955197766688</td>\n",
              "      <td>0.426272922318731</td>\n",
              "      <td>0.5001160445626741</td>\n",
              "      <td>0.5000760322381088</td>\n",
              "    </tr>\n",
              "    <tr>\n",
              "      <th>3</th>\n",
              "      <td>min</td>\n",
              "      <td>501</td>\n",
              "      <td>0</td>\n",
              "      <td>0.5</td>\n",
              "      <td>0</td>\n",
              "      <td>0</td>\n",
              "      <td>0</td>\n",
              "      <td>2</td>\n",
              "      <td>0.1</td>\n",
              "      <td>80</td>\n",
              "      <td>...</td>\n",
              "      <td>0</td>\n",
              "      <td>0</td>\n",
              "      <td>500</td>\n",
              "      <td>256</td>\n",
              "      <td>5</td>\n",
              "      <td>0</td>\n",
              "      <td>2</td>\n",
              "      <td>0</td>\n",
              "      <td>0</td>\n",
              "      <td>0</td>\n",
              "    </tr>\n",
              "    <tr>\n",
              "      <th>4</th>\n",
              "      <td>25%</td>\n",
              "      <td>851</td>\n",
              "      <td>0</td>\n",
              "      <td>0.7</td>\n",
              "      <td>0</td>\n",
              "      <td>1</td>\n",
              "      <td>0</td>\n",
              "      <td>16</td>\n",
              "      <td>0.2</td>\n",
              "      <td>109</td>\n",
              "      <td>...</td>\n",
              "      <td>5</td>\n",
              "      <td>282</td>\n",
              "      <td>874</td>\n",
              "      <td>1206</td>\n",
              "      <td>9</td>\n",
              "      <td>2</td>\n",
              "      <td>6</td>\n",
              "      <td>1</td>\n",
              "      <td>0</td>\n",
              "      <td>0</td>\n",
              "    </tr>\n",
              "    <tr>\n",
              "      <th>5</th>\n",
              "      <td>50%</td>\n",
              "      <td>1225</td>\n",
              "      <td>0</td>\n",
              "      <td>1.5</td>\n",
              "      <td>1</td>\n",
              "      <td>3</td>\n",
              "      <td>1</td>\n",
              "      <td>32</td>\n",
              "      <td>0.5</td>\n",
              "      <td>141</td>\n",
              "      <td>...</td>\n",
              "      <td>10</td>\n",
              "      <td>564</td>\n",
              "      <td>1247</td>\n",
              "      <td>2146</td>\n",
              "      <td>12</td>\n",
              "      <td>5</td>\n",
              "      <td>11</td>\n",
              "      <td>1</td>\n",
              "      <td>1</td>\n",
              "      <td>1</td>\n",
              "    </tr>\n",
              "    <tr>\n",
              "      <th>6</th>\n",
              "      <td>75%</td>\n",
              "      <td>1615</td>\n",
              "      <td>1</td>\n",
              "      <td>2.2</td>\n",
              "      <td>1</td>\n",
              "      <td>7</td>\n",
              "      <td>1</td>\n",
              "      <td>48</td>\n",
              "      <td>0.8</td>\n",
              "      <td>170</td>\n",
              "      <td>...</td>\n",
              "      <td>15</td>\n",
              "      <td>947</td>\n",
              "      <td>1633</td>\n",
              "      <td>3064</td>\n",
              "      <td>16</td>\n",
              "      <td>9</td>\n",
              "      <td>16</td>\n",
              "      <td>1</td>\n",
              "      <td>1</td>\n",
              "      <td>1</td>\n",
              "    </tr>\n",
              "    <tr>\n",
              "      <th>7</th>\n",
              "      <td>max</td>\n",
              "      <td>1998</td>\n",
              "      <td>1</td>\n",
              "      <td>3.0</td>\n",
              "      <td>1</td>\n",
              "      <td>19</td>\n",
              "      <td>1</td>\n",
              "      <td>64</td>\n",
              "      <td>1.0</td>\n",
              "      <td>200</td>\n",
              "      <td>...</td>\n",
              "      <td>20</td>\n",
              "      <td>1960</td>\n",
              "      <td>1998</td>\n",
              "      <td>3998</td>\n",
              "      <td>19</td>\n",
              "      <td>18</td>\n",
              "      <td>20</td>\n",
              "      <td>1</td>\n",
              "      <td>1</td>\n",
              "      <td>1</td>\n",
              "    </tr>\n",
              "  </tbody>\n",
              "</table>\n",
              "<p>8 rows × 21 columns</p>\n",
              "</div>\n",
              "      <button class=\"colab-df-convert\" onclick=\"convertToInteractive('df-8bab26ac-3d7a-461d-b827-10e5a67ca790')\"\n",
              "              title=\"Convert this dataframe to an interactive table.\"\n",
              "              style=\"display:none;\">\n",
              "        \n",
              "  <svg xmlns=\"http://www.w3.org/2000/svg\" height=\"24px\"viewBox=\"0 0 24 24\"\n",
              "       width=\"24px\">\n",
              "    <path d=\"M0 0h24v24H0V0z\" fill=\"none\"/>\n",
              "    <path d=\"M18.56 5.44l.94 2.06.94-2.06 2.06-.94-2.06-.94-.94-2.06-.94 2.06-2.06.94zm-11 1L8.5 8.5l.94-2.06 2.06-.94-2.06-.94L8.5 2.5l-.94 2.06-2.06.94zm10 10l.94 2.06.94-2.06 2.06-.94-2.06-.94-.94-2.06-.94 2.06-2.06.94z\"/><path d=\"M17.41 7.96l-1.37-1.37c-.4-.4-.92-.59-1.43-.59-.52 0-1.04.2-1.43.59L10.3 9.45l-7.72 7.72c-.78.78-.78 2.05 0 2.83L4 21.41c.39.39.9.59 1.41.59.51 0 1.02-.2 1.41-.59l7.78-7.78 2.81-2.81c.8-.78.8-2.07 0-2.86zM5.41 20L4 18.59l7.72-7.72 1.47 1.35L5.41 20z\"/>\n",
              "  </svg>\n",
              "      </button>\n",
              "      \n",
              "  <style>\n",
              "    .colab-df-container {\n",
              "      display:flex;\n",
              "      flex-wrap:wrap;\n",
              "      gap: 12px;\n",
              "    }\n",
              "\n",
              "    .colab-df-convert {\n",
              "      background-color: #E8F0FE;\n",
              "      border: none;\n",
              "      border-radius: 50%;\n",
              "      cursor: pointer;\n",
              "      display: none;\n",
              "      fill: #1967D2;\n",
              "      height: 32px;\n",
              "      padding: 0 0 0 0;\n",
              "      width: 32px;\n",
              "    }\n",
              "\n",
              "    .colab-df-convert:hover {\n",
              "      background-color: #E2EBFA;\n",
              "      box-shadow: 0px 1px 2px rgba(60, 64, 67, 0.3), 0px 1px 3px 1px rgba(60, 64, 67, 0.15);\n",
              "      fill: #174EA6;\n",
              "    }\n",
              "\n",
              "    [theme=dark] .colab-df-convert {\n",
              "      background-color: #3B4455;\n",
              "      fill: #D2E3FC;\n",
              "    }\n",
              "\n",
              "    [theme=dark] .colab-df-convert:hover {\n",
              "      background-color: #434B5C;\n",
              "      box-shadow: 0px 1px 3px 1px rgba(0, 0, 0, 0.15);\n",
              "      filter: drop-shadow(0px 1px 2px rgba(0, 0, 0, 0.3));\n",
              "      fill: #FFFFFF;\n",
              "    }\n",
              "  </style>\n",
              "\n",
              "      <script>\n",
              "        const buttonEl =\n",
              "          document.querySelector('#df-8bab26ac-3d7a-461d-b827-10e5a67ca790 button.colab-df-convert');\n",
              "        buttonEl.style.display =\n",
              "          google.colab.kernel.accessAllowed ? 'block' : 'none';\n",
              "\n",
              "        async function convertToInteractive(key) {\n",
              "          const element = document.querySelector('#df-8bab26ac-3d7a-461d-b827-10e5a67ca790');\n",
              "          const dataTable =\n",
              "            await google.colab.kernel.invokeFunction('convertToInteractive',\n",
              "                                                     [key], {});\n",
              "          if (!dataTable) return;\n",
              "\n",
              "          const docLinkHtml = 'Like what you see? Visit the ' +\n",
              "            '<a target=\"_blank\" href=https://colab.research.google.com/notebooks/data_table.ipynb>data table notebook</a>'\n",
              "            + ' to learn more about interactive tables.';\n",
              "          element.innerHTML = '';\n",
              "          dataTable['output_type'] = 'display_data';\n",
              "          await google.colab.output.renderOutput(dataTable, element);\n",
              "          const docLink = document.createElement('div');\n",
              "          docLink.innerHTML = docLinkHtml;\n",
              "          element.appendChild(docLink);\n",
              "        }\n",
              "      </script>\n",
              "    </div>\n",
              "  </div>\n",
              "  "
            ]
          },
          "metadata": {},
          "execution_count": 23
        }
      ],
      "execution_count": null
    },
    {
      "cell_type": "code",
      "source": [
        "!pip install pyspark_dist_explore"
      ],
      "metadata": {
        "application/vnd.databricks.v1+cell": {
          "title": "",
          "showTitle": false,
          "inputWidgets": {},
          "nuid": "012bfb24-3423-495c-a059-978b3b6b4a64"
        },
        "colab": {
          "base_uri": "https://localhost:8080/"
        },
        "id": "crsuN4rf88zd",
        "outputId": "b807973b-4e28-462a-822b-26827a5e6650"
      },
      "outputs": [
        {
          "output_type": "stream",
          "name": "stdout",
          "text": [
            "Looking in indexes: https://pypi.org/simple, https://us-python.pkg.dev/colab-wheels/public/simple/\n",
            "Requirement already satisfied: pyspark_dist_explore in /usr/local/lib/python3.7/dist-packages (0.1.8)\n",
            "Requirement already satisfied: matplotlib in /usr/local/lib/python3.7/dist-packages (from pyspark_dist_explore) (3.2.2)\n",
            "Requirement already satisfied: numpy in /usr/local/lib/python3.7/dist-packages (from pyspark_dist_explore) (1.21.6)\n",
            "Requirement already satisfied: scipy in /usr/local/lib/python3.7/dist-packages (from pyspark_dist_explore) (1.7.3)\n",
            "Requirement already satisfied: pandas in /usr/local/lib/python3.7/dist-packages (from pyspark_dist_explore) (1.3.5)\n",
            "Requirement already satisfied: kiwisolver>=1.0.1 in /usr/local/lib/python3.7/dist-packages (from matplotlib->pyspark_dist_explore) (1.4.4)\n",
            "Requirement already satisfied: python-dateutil>=2.1 in /usr/local/lib/python3.7/dist-packages (from matplotlib->pyspark_dist_explore) (2.8.2)\n",
            "Requirement already satisfied: pyparsing!=2.0.4,!=2.1.2,!=2.1.6,>=2.0.1 in /usr/local/lib/python3.7/dist-packages (from matplotlib->pyspark_dist_explore) (3.0.9)\n",
            "Requirement already satisfied: cycler>=0.10 in /usr/local/lib/python3.7/dist-packages (from matplotlib->pyspark_dist_explore) (0.11.0)\n",
            "Requirement already satisfied: typing-extensions in /usr/local/lib/python3.7/dist-packages (from kiwisolver>=1.0.1->matplotlib->pyspark_dist_explore) (4.1.1)\n",
            "Requirement already satisfied: six>=1.5 in /usr/local/lib/python3.7/dist-packages (from python-dateutil>=2.1->matplotlib->pyspark_dist_explore) (1.15.0)\n",
            "Requirement already satisfied: pytz>=2017.3 in /usr/local/lib/python3.7/dist-packages (from pandas->pyspark_dist_explore) (2022.4)\n"
          ]
        }
      ],
      "execution_count": null
    },
    {
      "cell_type": "code",
      "source": [
        "from pyspark_dist_explore import Histogram, hist, distplot"
      ],
      "metadata": {
        "application/vnd.databricks.v1+cell": {
          "title": "",
          "showTitle": false,
          "inputWidgets": {},
          "nuid": "9593a053-e95f-4b11-beab-901073cb071d"
        },
        "id": "27LRap5N88zd"
      },
      "outputs": [],
      "execution_count": null
    },
    {
      "cell_type": "code",
      "source": [
        "# Create some selections on this data\n",
        "filtered_by_price_0 = df_train.filter(F.col('price_range') == 0)\n",
        "filtered_by_price_1 = df_train.filter(F.col('price_range') == 1)\n",
        "filtered_by_price_2 = df_train.filter(F.col('price_range') == 2)\n",
        "filtered_by_price_3 = df_train.filter(F.col('price_range') == 3)"
      ],
      "metadata": {
        "application/vnd.databricks.v1+cell": {
          "title": "",
          "showTitle": false,
          "inputWidgets": {},
          "nuid": "2ff9d866-f708-48f3-86b4-b73a6f5e3870"
        },
        "id": "THg-Pu6E88ze"
      },
      "outputs": [],
      "execution_count": null
    },
    {
      "cell_type": "code",
      "source": [
        "ram_0 = filtered_by_price_0.select(F.col('ram').alias('ram_0'))\n",
        "ram_1 = filtered_by_price_1.select(F.col('ram').alias('ram_1'))\n",
        "ram_2 = filtered_by_price_2.select(F.col('ram').alias('ram_2'))\n",
        "ram_3 = filtered_by_price_3.select(F.col('ram').alias('ram_3'))"
      ],
      "metadata": {
        "application/vnd.databricks.v1+cell": {
          "title": "",
          "showTitle": false,
          "inputWidgets": {},
          "nuid": "966b68d0-4924-42a2-b67c-55e61fd584d1"
        },
        "id": "9GEjpzS288zf"
      },
      "outputs": [],
      "execution_count": null
    },
    {
      "cell_type": "code",
      "source": [
        "# ram_0.limit(10).toPandas()"
      ],
      "metadata": {
        "id": "pUa6fRzVN4n8"
      },
      "execution_count": null,
      "outputs": []
    },
    {
      "cell_type": "code",
      "source": [
        "import matplotlib.pyplot as plt"
      ],
      "metadata": {
        "application/vnd.databricks.v1+cell": {
          "title": "",
          "showTitle": false,
          "inputWidgets": {},
          "nuid": "b23f0769-4a90-4037-89fb-f6e826330fc5"
        },
        "id": "m3srPhIb88zf"
      },
      "outputs": [],
      "execution_count": null
    },
    {
      "cell_type": "code",
      "source": [
        "#Create the plots\n",
        "fig, axes = plt.subplots(nrows=2, ncols=2)\n",
        "fig.set_size_inches(20, 20)\n",
        "\n",
        "# Use the hist function to plot histograms on the Axes\n",
        "hist(axes[0, 0], [ram_0, ram_1], bins = 20, color=['red', 'tan'])\n",
        "axes[0, 0].set_title('01. Compare prices')\n",
        "axes[0, 0].legend()\n",
        "\n",
        "# Use the hist function to plot histograms on the Axes\n",
        "hist(axes[0, 1], [ram_2, ram_3], bins = 20, color=['green', 'blue'])\n",
        "axes[0, 1].set_title('02. Compare prices')\n",
        "axes[0, 1].legend()\n",
        "\n",
        "# Use the distplot function to plot (scaled) histograms + density plots on the Axes\n",
        "distplot(axes[1, 0], [ram_0, ram_1], bins=20, color=['red', 'tan'])\n",
        "axes[1, 0].set_title('03. Compare prices')\n",
        "axes[1, 0].legend()\n",
        "\n",
        "distplot(axes[1, 1], [ram_2, ram_3], bins=20, color=['green', 'blue'])\n",
        "axes[1, 1].set_title('04. Compare prices')\n",
        "axes[1, 1].legend()"
      ],
      "metadata": {
        "application/vnd.databricks.v1+cell": {
          "title": "",
          "showTitle": false,
          "inputWidgets": {},
          "nuid": "2528bb13-b13e-419f-978a-fea756985729"
        },
        "colab": {
          "base_uri": "https://localhost:8080/",
          "height": 1000
        },
        "id": "BmWH1V4X88zg",
        "outputId": "39fc4dd2-029d-4bec-ec5f-91029ad0d596"
      },
      "outputs": [
        {
          "output_type": "execute_result",
          "data": {
            "text/plain": [
              "<matplotlib.legend.Legend at 0x7f26dfb95a90>"
            ]
          },
          "metadata": {},
          "execution_count": 30
        },
        {
          "output_type": "display_data",
          "data": {
            "text/plain": [
              "<Figure size 1440x1440 with 4 Axes>"
            ],
            "image/png": "[encoded data removed]"
          },
          "metadata": {
            "needs_background": "light"
          }
        }
      ],
      "execution_count": null
    },
    {
      "cell_type": "code",
      "source": [
        "df_train, df_val = df_train.randomSplit([0.7, 0.3], 42)\n",
        "\n",
        "df_train.cache()\n",
        "df_val.cache()"
      ],
      "metadata": {
        "application/vnd.databricks.v1+cell": {
          "title": "",
          "showTitle": false,
          "inputWidgets": {},
          "nuid": "2288740a-10e0-46b4-85a1-94e087613837"
        },
        "colab": {
          "base_uri": "https://localhost:8080/"
        },
        "id": "taHAolWM88zh",
        "outputId": "2b15f808-5c63-4821-ed34-4651ed5741eb"
      },
      "outputs": [
        {
          "output_type": "execute_result",
          "data": {
            "text/plain": [
              "DataFrame[battery_power: int, blue: int, clock_speed: double, dual_sim: int, fc: int, four_g: int, int_memory: int, m_dep: double, mobile_wt: int, n_cores: int, pc: int, px_height: int, px_width: int, ram: int, sc_h: int, sc_w: int, talk_time: int, three_g: int, touch_screen: int, wifi: int, price_range: int]"
            ]
          },
          "metadata": {},
          "execution_count": 31
        }
      ],
      "execution_count": null
    },
    {
      "cell_type": "code",
      "source": [
        "from pyspark.ml import Pipeline\n",
        "from pyspark.ml.feature import VectorAssembler\n",
        "from pyspark.ml.regression import LinearRegression\n",
        "\n",
        "assembler = VectorAssembler(inputCols=FEATURES_COL, outputCol='features')\n",
        "lr = LinearRegression(featuresCol='features', labelCol=LABEL_COL, maxIter=10)\n",
        "\n",
        "p = Pipeline(stages=[assembler, lr])"
      ],
      "metadata": {
        "application/vnd.databricks.v1+cell": {
          "title": "",
          "showTitle": false,
          "inputWidgets": {},
          "nuid": "18dfd9dd-2dad-4a42-9d1a-04dcefe60e1b"
        },
        "id": "HRZjDTDb88zi"
      },
      "outputs": [],
      "execution_count": null
    },
    {
      "cell_type": "code",
      "source": [
        "# p.fit(df_train).transform(df_train).limit(10).toPandas()"
      ],
      "metadata": {
        "application/vnd.databricks.v1+cell": {
          "title": "",
          "showTitle": false,
          "inputWidgets": {},
          "nuid": "24665e5e-edf6-45d3-8a79-d9e9d54c6d27"
        },
        "id": "81akvBXh88zj"
      },
      "outputs": [],
      "execution_count": null
    },
    {
      "cell_type": "code",
      "source": [
        "pipeline = p.fit(df_train)\n",
        "lr_model = pipeline.stages[-1]\n",
        "\n",
        "summary = lr_model.summary\n",
        "print(\"RMSE:\\t%.2f\\nR2:\\t%.2f\" % (summary.rootMeanSquaredError, summary.r2))"
      ],
      "metadata": {
        "application/vnd.databricks.v1+cell": {
          "title": "",
          "showTitle": false,
          "inputWidgets": {},
          "nuid": "e950abbe-55b7-46c1-a883-baaf0cf8a8b9"
        },
        "colab": {
          "base_uri": "https://localhost:8080/"
        },
        "id": "xCw9orkZ88zj",
        "outputId": "8047a3bd-4d64-4437-f55b-fa4ca43fb125"
      },
      "outputs": [
        {
          "output_type": "stream",
          "name": "stdout",
          "text": [
            "RMSE:\t0.32\n",
            "R2:\t0.92\n"
          ]
        }
      ],
      "execution_count": null
    },
    {
      "cell_type": "code",
      "source": [
        "df_val"
      ],
      "metadata": {
        "colab": {
          "base_uri": "https://localhost:8080/"
        },
        "id": "pciIo_SvDzxm",
        "outputId": "a5d397d2-60df-4f22-cd3d-6bf7a18ca096"
      },
      "execution_count": null,
      "outputs": [
        {
          "output_type": "execute_result",
          "data": {
            "text/plain": [
              "DataFrame[battery_power: int, blue: int, clock_speed: double, dual_sim: int, fc: int, four_g: int, int_memory: int, m_dep: double, mobile_wt: int, n_cores: int, pc: int, px_height: int, px_width: int, ram: int, sc_h: int, sc_w: int, talk_time: int, three_g: int, touch_screen: int, wifi: int, price_range: int]"
            ]
          },
          "metadata": {},
          "execution_count": 34
        }
      ]
    },
    {
      "cell_type": "code",
      "source": [
        "from pyspark.ml.evaluation import RegressionEvaluator\n",
        "\n",
        "predictions = pipeline.transform(df_val)\n",
        "\n",
        "rmse_evaluator = RegressionEvaluator(predictionCol=\"prediction\", labelCol=LABEL_COL, metricName=\"rmse\")\n",
        "r2_evaluator = RegressionEvaluator(predictionCol=\"prediction\", labelCol=LABEL_COL, metricName=\"r2\")\n",
        "\n",
        "print(\"RMSE:\\t%.2f\\nR2:\\t%.2f\" % (rmse_evaluator.evaluate(predictions), r2_evaluator.evaluate(predictions)))"
      ],
      "metadata": {
        "application/vnd.databricks.v1+cell": {
          "title": "",
          "showTitle": false,
          "inputWidgets": {},
          "nuid": "3630b6b9-80dc-467c-9c3c-243dffdbbc8e"
        },
        "colab": {
          "base_uri": "https://localhost:8080/"
        },
        "id": "zGKHSA-688zj",
        "outputId": "c2c2bff6-7fde-431b-cd55-bfbc7c404380"
      },
      "outputs": [
        {
          "output_type": "stream",
          "name": "stdout",
          "text": [
            "RMSE:\t0.32\n",
            "R2:\t0.92\n"
          ]
        }
      ],
      "execution_count": null
    },
    {
      "cell_type": "code",
      "source": [
        "from pyspark.ml.tuning import ParamGridBuilder, TrainValidationSplit\n",
        "\n",
        "param_grid = (ParamGridBuilder()\n",
        "              .addGrid(lr.regParam, [0.1, 0.01])\n",
        "              .addGrid(lr.fitIntercept, [False, True])\n",
        "              .addGrid(lr.elasticNetParam, [0.0, 0.5, 1.0])\n",
        "              .build()\n",
        "             )\n",
        "\n",
        "print(\"Param grid size: %d\" % len(param_grid))\n",
        "\n",
        "tvs = TrainValidationSplit(estimator=p,\n",
        "                           estimatorParamMaps=param_grid,\n",
        "                           evaluator=rmse_evaluator,\n",
        "                           trainRatio=0.8) # 0.8 : 0.2 - train : test\n",
        "\n",
        "tuned_model = tvs.fit(df_train)\n",
        "tuned_predictions = tuned_model.transform(df_val)\n",
        "\n",
        "print(\"RMSE:\\t%.2f\\nR2:\\t%.2f\" % (rmse_evaluator.evaluate(tuned_predictions), r2_evaluator.evaluate(tuned_predictions)))"
      ],
      "metadata": {
        "application/vnd.databricks.v1+cell": {
          "title": "",
          "showTitle": false,
          "inputWidgets": {},
          "nuid": "d86de7a4-64eb-4bd7-b9c3-ca3445f50816"
        },
        "id": "aWiJdv9K88zk",
        "outputId": "43105ca5-23a0-43f8-cd25-599d7cb04112",
        "colab": {
          "base_uri": "https://localhost:8080/"
        }
      },
      "outputs": [
        {
          "output_type": "stream",
          "name": "stdout",
          "text": [
            "Param grid size: 12\n",
            "RMSE:\t0.32\n",
            "R2:\t0.92\n"
          ]
        }
      ],
      "execution_count": null
    },
    {
      "cell_type": "code",
      "source": [
        "df_train.select('price_range').distinct().toPandas()"
      ],
      "metadata": {
        "trusted": true,
        "application/vnd.databricks.v1+cell": {
          "title": "",
          "showTitle": false,
          "inputWidgets": {},
          "nuid": "6c81843a-79e3-4dc1-bf8a-d90ddc716810"
        },
        "id": "2aOr1kvS88zk",
        "outputId": "fafa9123-2e96-44f3-92f4-513b73dbc663",
        "colab": {
          "base_uri": "https://localhost:8080/",
          "height": 175
        }
      },
      "outputs": [
        {
          "output_type": "execute_result",
          "data": {
            "text/plain": [
              "   price_range\n",
              "0            1\n",
              "1            3\n",
              "2            2\n",
              "3            0"
            ],
            "text/html": [
              "\n",
              "  <div id=\"df-87ecaedf-d34e-4616-9ad1-95c4149c5d34\">\n",
              "    <div class=\"colab-df-container\">\n",
              "      <div>\n",
              "<style scoped>\n",
              "    .dataframe tbody tr th:only-of-type {\n",
              "        vertical-align: middle;\n",
              "    }\n",
              "\n",
              "    .dataframe tbody tr th {\n",
              "        vertical-align: top;\n",
              "    }\n",
              "\n",
              "    .dataframe thead th {\n",
              "        text-align: right;\n",
              "    }\n",
              "</style>\n",
              "<table border=\"1\" class=\"dataframe\">\n",
              "  <thead>\n",
              "    <tr style=\"text-align: right;\">\n",
              "      <th></th>\n",
              "      <th>price_range</th>\n",
              "    </tr>\n",
              "  </thead>\n",
              "  <tbody>\n",
              "    <tr>\n",
              "      <th>0</th>\n",
              "      <td>1</td>\n",
              "    </tr>\n",
              "    <tr>\n",
              "      <th>1</th>\n",
              "      <td>3</td>\n",
              "    </tr>\n",
              "    <tr>\n",
              "      <th>2</th>\n",
              "      <td>2</td>\n",
              "    </tr>\n",
              "    <tr>\n",
              "      <th>3</th>\n",
              "      <td>0</td>\n",
              "    </tr>\n",
              "  </tbody>\n",
              "</table>\n",
              "</div>\n",
              "      <button class=\"colab-df-convert\" onclick=\"convertToInteractive('df-87ecaedf-d34e-4616-9ad1-95c4149c5d34')\"\n",
              "              title=\"Convert this dataframe to an interactive table.\"\n",
              "              style=\"display:none;\">\n",
              "        \n",
              "  <svg xmlns=\"http://www.w3.org/2000/svg\" height=\"24px\"viewBox=\"0 0 24 24\"\n",
              "       width=\"24px\">\n",
              "    <path d=\"M0 0h24v24H0V0z\" fill=\"none\"/>\n",
              "    <path d=\"M18.56 5.44l.94 2.06.94-2.06 2.06-.94-2.06-.94-.94-2.06-.94 2.06-2.06.94zm-11 1L8.5 8.5l.94-2.06 2.06-.94-2.06-.94L8.5 2.5l-.94 2.06-2.06.94zm10 10l.94 2.06.94-2.06 2.06-.94-2.06-.94-.94-2.06-.94 2.06-2.06.94z\"/><path d=\"M17.41 7.96l-1.37-1.37c-.4-.4-.92-.59-1.43-.59-.52 0-1.04.2-1.43.59L10.3 9.45l-7.72 7.72c-.78.78-.78 2.05 0 2.83L4 21.41c.39.39.9.59 1.41.59.51 0 1.02-.2 1.41-.59l7.78-7.78 2.81-2.81c.8-.78.8-2.07 0-2.86zM5.41 20L4 18.59l7.72-7.72 1.47 1.35L5.41 20z\"/>\n",
              "  </svg>\n",
              "      </button>\n",
              "      \n",
              "  <style>\n",
              "    .colab-df-container {\n",
              "      display:flex;\n",
              "      flex-wrap:wrap;\n",
              "      gap: 12px;\n",
              "    }\n",
              "\n",
              "    .colab-df-convert {\n",
              "      background-color: #E8F0FE;\n",
              "      border: none;\n",
              "      border-radius: 50%;\n",
              "      cursor: pointer;\n",
              "      display: none;\n",
              "      fill: #1967D2;\n",
              "      height: 32px;\n",
              "      padding: 0 0 0 0;\n",
              "      width: 32px;\n",
              "    }\n",
              "\n",
              "    .colab-df-convert:hover {\n",
              "      background-color: #E2EBFA;\n",
              "      box-shadow: 0px 1px 2px rgba(60, 64, 67, 0.3), 0px 1px 3px 1px rgba(60, 64, 67, 0.15);\n",
              "      fill: #174EA6;\n",
              "    }\n",
              "\n",
              "    [theme=dark] .colab-df-convert {\n",
              "      background-color: #3B4455;\n",
              "      fill: #D2E3FC;\n",
              "    }\n",
              "\n",
              "    [theme=dark] .colab-df-convert:hover {\n",
              "      background-color: #434B5C;\n",
              "      box-shadow: 0px 1px 3px 1px rgba(0, 0, 0, 0.15);\n",
              "      filter: drop-shadow(0px 1px 2px rgba(0, 0, 0, 0.3));\n",
              "      fill: #FFFFFF;\n",
              "    }\n",
              "  </style>\n",
              "\n",
              "      <script>\n",
              "        const buttonEl =\n",
              "          document.querySelector('#df-87ecaedf-d34e-4616-9ad1-95c4149c5d34 button.colab-df-convert');\n",
              "        buttonEl.style.display =\n",
              "          google.colab.kernel.accessAllowed ? 'block' : 'none';\n",
              "\n",
              "        async function convertToInteractive(key) {\n",
              "          const element = document.querySelector('#df-87ecaedf-d34e-4616-9ad1-95c4149c5d34');\n",
              "          const dataTable =\n",
              "            await google.colab.kernel.invokeFunction('convertToInteractive',\n",
              "                                                     [key], {});\n",
              "          if (!dataTable) return;\n",
              "\n",
              "          const docLinkHtml = 'Like what you see? Visit the ' +\n",
              "            '<a target=\"_blank\" href=https://colab.research.google.com/notebooks/data_table.ipynb>data table notebook</a>'\n",
              "            + ' to learn more about interactive tables.';\n",
              "          element.innerHTML = '';\n",
              "          dataTable['output_type'] = 'display_data';\n",
              "          await google.colab.output.renderOutput(dataTable, element);\n",
              "          const docLink = document.createElement('div');\n",
              "          docLink.innerHTML = docLinkHtml;\n",
              "          element.appendChild(docLink);\n",
              "        }\n",
              "      </script>\n",
              "    </div>\n",
              "  </div>\n",
              "  "
            ]
          },
          "metadata": {},
          "execution_count": 40
        }
      ],
      "execution_count": null
    },
    {
      "cell_type": "code",
      "source": [
        "df_train.groupBy(\"price_range\").avg(\"ram\").show()"
      ],
      "metadata": {
        "application/vnd.databricks.v1+cell": {
          "title": "",
          "showTitle": false,
          "inputWidgets": {},
          "nuid": "2a202dfb-a2e3-4093-a1d7-2ce1d6b1fc93"
        },
        "id": "2OhjiycX88zl",
        "outputId": "38d0de5c-3576-4307-e1d4-5f9542e94042",
        "colab": {
          "base_uri": "https://localhost:8080/"
        }
      },
      "outputs": [
        {
          "output_type": "stream",
          "name": "stdout",
          "text": [
            "+-----------+------------------+\n",
            "|price_range|          avg(ram)|\n",
            "+-----------+------------------+\n",
            "|          1|1696.5218579234972|\n",
            "|          3|3441.4204545454545|\n",
            "|          2|2612.4835164835163|\n",
            "|          0| 801.8379120879121|\n",
            "+-----------+------------------+\n",
            "\n"
          ]
        }
      ],
      "execution_count": null
    },
    {
      "cell_type": "markdown",
      "source": [
        "## Logistic Regression"
      ],
      "metadata": {
        "application/vnd.databricks.v1+cell": {
          "title": "",
          "showTitle": false,
          "inputWidgets": {},
          "nuid": "cd89d644-feb1-43aa-a014-f0548c582e3d"
        },
        "id": "z3pNpQGc88zl"
      }
    },
    {
      "cell_type": "code",
      "source": [
        "[('scaled_' + f) for f in FEATURES_COL]"
      ],
      "metadata": {
        "application/vnd.databricks.v1+cell": {
          "title": "",
          "showTitle": false,
          "inputWidgets": {},
          "nuid": "13a00a7e-824e-4541-9af7-5ca5ecd78197"
        },
        "colab": {
          "base_uri": "https://localhost:8080/"
        },
        "id": "Pcp73GKc88zl",
        "outputId": "667051a4-30b7-4dc2-82b4-f0d1e634b4c5"
      },
      "outputs": [
        {
          "output_type": "execute_result",
          "data": {
            "text/plain": [
              "['scaled_battery_power',\n",
              " 'scaled_blue',\n",
              " 'scaled_clock_speed',\n",
              " 'scaled_dual_sim',\n",
              " 'scaled_fc',\n",
              " 'scaled_four_g',\n",
              " 'scaled_int_memory',\n",
              " 'scaled_m_dep',\n",
              " 'scaled_mobile_wt',\n",
              " 'scaled_n_cores',\n",
              " 'scaled_pc',\n",
              " 'scaled_px_height',\n",
              " 'scaled_px_width',\n",
              " 'scaled_ram',\n",
              " 'scaled_sc_h',\n",
              " 'scaled_sc_w',\n",
              " 'scaled_talk_time',\n",
              " 'scaled_three_g',\n",
              " 'scaled_touch_screen',\n",
              " 'scaled_wifi']"
            ]
          },
          "metadata": {},
          "execution_count": 47
        }
      ],
      "execution_count": null
    },
    {
      "cell_type": "code",
      "source": [
        "va1 = [VectorAssembler(inputCols=[f], outputCol=('vec_' + f)) for f in FEATURES_COL]"
      ],
      "metadata": {
        "application/vnd.databricks.v1+cell": {
          "title": "",
          "showTitle": false,
          "inputWidgets": {},
          "nuid": "ab58c414-92a6-41c1-a7ea-1a4c33b2e14f"
        },
        "id": "uWJqtQm-88zl"
      },
      "outputs": [],
      "execution_count": null
    },
    {
      "cell_type": "code",
      "source": [
        "from pyspark.ml.feature import StandardScaler\n",
        "from pyspark.ml.classification import LogisticRegression"
      ],
      "metadata": {
        "application/vnd.databricks.v1+cell": {
          "title": "",
          "showTitle": false,
          "inputWidgets": {},
          "nuid": "5dd56ea2-a31f-4c5f-aa6c-10bc108aa3c6"
        },
        "id": "N0PCG4JP88zm"
      },
      "outputs": [],
      "execution_count": null
    },
    {
      "cell_type": "code",
      "source": [
        "# Stage 1: \n",
        "#   [VA([f1]), VA([f2]), VA([f3])] -> [vec_f1, vec_f2, vec_f3]\n",
        "  \n",
        "# Stage 2:\n",
        "#  [SS(VA([f1])), SS(VA([f2])), SS(VA([f3]))] - > [ss_vec_f1, ss_vec_f2, ss_vec_f3]\n",
        "\n",
        "# Stage 3:\n",
        "#   VA([ss_vec_f1, ss_vec_f2, ss_vec_f3]) -> features: [ss_vec_f1, ss_vec_f2, ss_vec_f3]\n",
        "    \n",
        "# stage 4:\n",
        "#   LR(features: [ss_vec_f1, ss_vec_f2, ss_vec_f3], LABEL_COL)"
      ],
      "metadata": {
        "application/vnd.databricks.v1+cell": {
          "title": "",
          "showTitle": false,
          "inputWidgets": {},
          "nuid": "1feb45ed-07f3-4104-a964-728c0518d2dc"
        },
        "id": "LD-y7Kdu88zm"
      },
      "outputs": [],
      "execution_count": null
    },
    {
      "cell_type": "code",
      "source": [
        "# |кг| см| возраст|\n",
        "# | 1|  2|      3 |\n",
        "# | 1|  2|      3 |\n",
        "# | 1|  2|      3 |"
      ],
      "metadata": {
        "application/vnd.databricks.v1+cell": {
          "title": "",
          "showTitle": false,
          "inputWidgets": {},
          "nuid": "c8889542-6a30-45d5-8fbc-9b4983c11547"
        },
        "id": "7Z8jylGp88zm"
      },
      "outputs": [],
      "execution_count": null
    },
    {
      "cell_type": "code",
      "source": [
        "# |кг| \n",
        "# | 1| \n",
        "# | 1|  \n",
        "# | 1|"
      ],
      "metadata": {
        "application/vnd.databricks.v1+cell": {
          "title": "",
          "showTitle": false,
          "inputWidgets": {},
          "nuid": "e951d619-0cc6-4005-bc96-1a69a6f15f36"
        },
        "id": "aI4NuC8q88zn"
      },
      "outputs": [],
      "execution_count": null
    },
    {
      "cell_type": "code",
      "source": [
        "# SS (кг: [1,1,1])"
      ],
      "metadata": {
        "application/vnd.databricks.v1+cell": {
          "title": "",
          "showTitle": false,
          "inputWidgets": {},
          "nuid": "5b0fceef-ee02-44f2-8a57-4a117079bb78"
        },
        "id": "nJuaHBqC88zn"
      },
      "outputs": [],
      "execution_count": null
    },
    {
      "cell_type": "code",
      "source": [
        "# |кг| см| возраст| кг_вектор| см_вектор| возраст_вектор|\n",
        "# | 1|  2|      3 |      [1] |       [2]|            [3]|"
      ],
      "metadata": {
        "application/vnd.databricks.v1+cell": {
          "title": "",
          "showTitle": false,
          "inputWidgets": {},
          "nuid": "d138e416-0880-4ce7-8172-0822e6fc1346"
        },
        "id": "jtEXjNoF88zn"
      },
      "outputs": [],
      "execution_count": null
    },
    {
      "cell_type": "code",
      "source": [
        "[('scaled_' + f) for f in FEATURES_COL]"
      ],
      "metadata": {
        "colab": {
          "base_uri": "https://localhost:8080/"
        },
        "id": "D0N9r3kQHxLm",
        "outputId": "a1ea82de-4bb9-4838-dc32-3850ae2a744e"
      },
      "execution_count": null,
      "outputs": [
        {
          "output_type": "execute_result",
          "data": {
            "text/plain": [
              "['scaled_battery_power',\n",
              " 'scaled_blue',\n",
              " 'scaled_clock_speed',\n",
              " 'scaled_dual_sim',\n",
              " 'scaled_fc',\n",
              " 'scaled_four_g',\n",
              " 'scaled_int_memory',\n",
              " 'scaled_m_dep',\n",
              " 'scaled_mobile_wt',\n",
              " 'scaled_n_cores',\n",
              " 'scaled_pc',\n",
              " 'scaled_px_height',\n",
              " 'scaled_px_width',\n",
              " 'scaled_ram',\n",
              " 'scaled_sc_h',\n",
              " 'scaled_sc_w',\n",
              " 'scaled_talk_time',\n",
              " 'scaled_three_g',\n",
              " 'scaled_touch_screen',\n",
              " 'scaled_wifi']"
            ]
          },
          "metadata": {},
          "execution_count": 55
        }
      ]
    },
    {
      "cell_type": "code",
      "source": [
        "['t', 'g'] + ['g', 'y']  + ['h']"
      ],
      "metadata": {
        "colab": {
          "base_uri": "https://localhost:8080/"
        },
        "id": "sQL8Fs0JIPJW",
        "outputId": "0e6b0b9a-22d3-4211-df8e-0c22aa9afb91"
      },
      "execution_count": null,
      "outputs": [
        {
          "output_type": "execute_result",
          "data": {
            "text/plain": [
              "['t', 'g', 'g', 'y', 'h']"
            ]
          },
          "metadata": {},
          "execution_count": 56
        }
      ]
    },
    {
      "cell_type": "code",
      "source": [
        "# FEATURES_COL\n",
        "# va1 = [VectorAssembler(inputCols=[f], outputCol=('vec_' + f)) for f in FEATURES_COL]\n",
        "# va1"
      ],
      "metadata": {
        "id": "4fOsj49nUau_"
      },
      "execution_count": null,
      "outputs": []
    },
    {
      "cell_type": "code",
      "source": [
        "#stage 1 -- перевести все колонки в вектора, по которым оптимально посчитать среднее и стандартное отклонение\n",
        "va1 = [VectorAssembler(inputCols=[f], outputCol=('vec_' + f)) for f in FEATURES_COL]\n",
        "\n",
        "#stage 2 -- Применить к какжой колонке свой standard scaler\n",
        "ss = [StandardScaler(inputCol='vec_' + f, outputCol='scaled_' + f, withMean=True, withStd=True) for f in FEATURES_COL]\n",
        "\n",
        "#stage 3 -- Собрать все значения в одну колонку features\n",
        "va2 = VectorAssembler(inputCols=[('scaled_' + f) for f in FEATURES_COL], outputCol=\"features\")\n",
        "\n",
        "\n",
        "lr = LogisticRegression(featuresCol='features', labelCol=LABEL_COL, maxIter=10)\n",
        "\n",
        "stages = va1 + ss + [va2] + [lr] # !list! of steps\n",
        "\n",
        "p = Pipeline(stages = stages)"
      ],
      "metadata": {
        "application/vnd.databricks.v1+cell": {
          "title": "",
          "showTitle": false,
          "inputWidgets": {},
          "nuid": "1b251829-b3f2-4812-b27c-2468b1b152e1"
        },
        "id": "n8Rz2fge88zn"
      },
      "outputs": [],
      "execution_count": null
    },
    {
      "cell_type": "code",
      "source": [
        "#ver2\n",
        "\n",
        "#stage 1 -- перевести все колонки в вектора, по которым оптимально посчитать среднее и стандартное отклонение\n",
        "va1 = VectorAssembler(inputCols=[f for f in FEATURES_COL], outputCol=\"features\")\n",
        "\n",
        "#stage 2 -- Применить к какжой колонке свой standard scaler\n",
        "ss = StandardScaler(inputCol=\"features\", outputCol='scaled_features', withMean=True, withStd=True)\n",
        "\n",
        "\n",
        "lr = LogisticRegression(featuresCol='features', labelCol=LABEL_COL, maxIter=10)\n",
        "\n",
        "stages = [va1 + ss, lr] # !list! of steps\n",
        "\n",
        "p = Pipeline(stages = stages)"
      ],
      "metadata": {
        "id": "oEK6H0qXXOVt"
      },
      "execution_count": null,
      "outputs": []
    },
    {
      "cell_type": "code",
      "source": [
        "model = p.fit(df_train)\n",
        "lr_model = model.stages[-1]\n",
        "\n",
        "summary = lr_model.summary"
      ],
      "metadata": {
        "application/vnd.databricks.v1+cell": {
          "title": "",
          "showTitle": false,
          "inputWidgets": {},
          "nuid": "8d0c5c29-1be0-4c50-9ced-d2d73e55abf9"
        },
        "id": "LcfWG3uJ88zo"
      },
      "outputs": [],
      "execution_count": null
    },
    {
      "cell_type": "code",
      "source": [
        "model.transform(df_val).cache().limit(10).toPandas()"
      ],
      "metadata": {
        "id": "N36LkqgrI25M"
      },
      "execution_count": null,
      "outputs": []
    },
    {
      "cell_type": "code",
      "source": [
        "# Print the coefficients and intercept for multinomial logistic regression\n",
        "print(\"Coefficients: \\n\" + str(lr_model.coefficientMatrix))\n",
        "print(\"Intercept: \" + str(lr_model.interceptVector))\n"
      ],
      "metadata": {
        "application/vnd.databricks.v1+cell": {
          "title": "",
          "showTitle": false,
          "inputWidgets": {},
          "nuid": "d446587b-b706-4c0e-8222-53e5b936d0e9"
        },
        "colab": {
          "base_uri": "https://localhost:8080/"
        },
        "id": "pT8g7jyP88zo",
        "outputId": "f6e35191-2d09-4a49-ce9e-efd9f1a6112c"
      },
      "outputs": [
        {
          "output_type": "stream",
          "name": "stdout",
          "text": [
            "Coefficients: \n",
            "DenseMatrix([[-0.01468827,  0.06467774,  0.01985294, -0.01070684, -0.04273283,\n",
            "              -0.56100406, -0.01741449,  0.470135  ,  0.03092923, -0.07071178,\n",
            "              -0.02666457, -0.00877573, -0.0082182 , -0.02353987, -0.06503422,\n",
            "               0.04010471,  0.00254605,  0.34880981,  0.37080135,  0.8154538 ],\n",
            "             [-0.00394766, -0.04281544, -0.03735835, -0.03032609, -0.00456762,\n",
            "               0.41424405, -0.00517589,  0.37635863,  0.01022937, -0.07846116,\n",
            "               0.00793177, -0.00234319, -0.00254827, -0.00634161, -0.03050234,\n",
            "              -0.01318563, -0.01368533, -0.37719036, -0.03278626,  0.20125796],\n",
            "             [ 0.00394219,  0.069791  ,  0.04448237, -0.11942881, -0.00414635,\n",
            "              -0.15686145, -0.00446291, -0.3279353 , -0.00344493,  0.02033364,\n",
            "               0.00235662,  0.0020877 ,  0.00207786,  0.00636754, -0.02583076,\n",
            "              -0.02360289, -0.01053476,  0.02097489, -0.27520422, -0.28930693],\n",
            "             [ 0.01469374, -0.0916533 , -0.02697695,  0.16046174,  0.0514468 ,\n",
            "               0.30362145,  0.02705329, -0.51855833, -0.03771366,  0.1288393 ,\n",
            "               0.01637619,  0.00903123,  0.00868861,  0.02351394,  0.12136731,\n",
            "              -0.00331619,  0.02167405,  0.00740566, -0.06281088, -0.72740483]])\n",
            "Intercept: [72.49941960467022,30.635397901510082,-12.867613549052074,-90.26720395712823]\n"
          ]
        }
      ],
      "execution_count": null
    },
    {
      "cell_type": "code",
      "source": [
        "# Obtain the objective per iteration\n",
        "objectiveHistory = summary.objectiveHistory\n",
        "print(\"objectiveHistory:\")\n",
        "for objective in objectiveHistory:\n",
        "    print(objective)"
      ],
      "metadata": {
        "application/vnd.databricks.v1+cell": {
          "title": "",
          "showTitle": false,
          "inputWidgets": {},
          "nuid": "bc5e4fa1-e28e-450b-9b6c-0ff067e19935"
        },
        "colab": {
          "base_uri": "https://localhost:8080/"
        },
        "id": "Iq3HcA3L88zo",
        "outputId": "a489aae1-717c-40cb-d4d2-da2b894cdfea"
      },
      "outputs": [
        {
          "output_type": "stream",
          "name": "stdout",
          "text": [
            "objectiveHistory:\n",
            "1.386176051295297\n",
            "1.0139757458566592\n",
            "0.7736902563408737\n",
            "0.6075734887251054\n",
            "0.4585077486939963\n",
            "0.34280461011585983\n",
            "0.2534591270189423\n",
            "0.20565141473080337\n",
            "0.1388939708664968\n",
            "0.10859427533020499\n",
            "0.08235717422325713\n"
          ]
        }
      ],
      "execution_count": null
    },
    {
      "cell_type": "code",
      "source": [
        "# for multiclass, we can inspect metrics on a per-label basis\n",
        "print(\"False positive rate by label:\")\n",
        "for i, rate in enumerate(summary.falsePositiveRateByLabel):\n",
        "    print(\"label %d: %s\" % (i, rate))"
      ],
      "metadata": {
        "application/vnd.databricks.v1+cell": {
          "title": "",
          "showTitle": false,
          "inputWidgets": {},
          "nuid": "2a75a313-7cb8-4576-aa98-fe6e76c0aa12"
        },
        "colab": {
          "base_uri": "https://localhost:8080/"
        },
        "id": "Zabe13-L88zo",
        "outputId": "ea74e836-e167-4911-90b4-e476439419d5"
      },
      "outputs": [
        {
          "output_type": "stream",
          "name": "stdout",
          "text": [
            "False positive rate by label:\n",
            "label 0: 0.0018484288354898336\n",
            "label 1: 0.009259259259259259\n",
            "label 2: 0.0073937153419593345\n",
            "label 3: 0.003656307129798903\n"
          ]
        }
      ],
      "execution_count": null
    },
    {
      "cell_type": "code",
      "source": [
        "print(\"True positive rate by label:\")\n",
        "for i, rate in enumerate(summary.truePositiveRateByLabel):\n",
        "    print(\"label %d: %s\" % (i, rate))"
      ],
      "metadata": {
        "application/vnd.databricks.v1+cell": {
          "title": "",
          "showTitle": false,
          "inputWidgets": {},
          "nuid": "0cee5b8a-481b-45dd-810c-3f32905141d9"
        },
        "colab": {
          "base_uri": "https://localhost:8080/"
        },
        "id": "vxXthZCh88zo",
        "outputId": "987bbf9e-ba17-4fc6-f868-500ad02407ff"
      },
      "outputs": [
        {
          "output_type": "stream",
          "name": "stdout",
          "text": [
            "True positive rate by label:\n",
            "label 0: 0.9835164835164835\n",
            "label 1: 0.9863387978142076\n",
            "label 2: 0.978021978021978\n",
            "label 3: 0.9857954545454546\n"
          ]
        }
      ],
      "execution_count": null
    },
    {
      "cell_type": "code",
      "source": [
        "print(\"Precision by label:\")\n",
        "for i, prec in enumerate(summary.precisionByLabel):\n",
        "    print(\"label %d: %s\" % (i, prec))\n",
        "\n",
        "print(\"Recall by label:\")\n",
        "for i, rec in enumerate(summary.recallByLabel):\n",
        "    print(\"label %d: %s\" % (i, rec))\n",
        "\n",
        "print(\"F-measure by label:\")\n",
        "for i, f in enumerate(summary.fMeasureByLabel()):\n",
        "    print(\"label %d: %s\" % (i, f))\n",
        "\n",
        "accuracy = summary.accuracy\n",
        "falsePositiveRate = summary.weightedFalsePositiveRate\n",
        "truePositiveRate = summary.weightedTruePositiveRate\n",
        "fMeasure = summary.weightedFMeasure()\n",
        "precision = summary.weightedPrecision\n",
        "recall = summary.weightedRecall\n",
        "print(\"Accuracy: %s\\nFPR: %s\\nTPR: %s\\nF-measure: %s\\nPrecision: %s\\nRecall: %s\"\n",
        "      % (accuracy, falsePositiveRate, truePositiveRate, fMeasure, precision, recall))"
      ],
      "metadata": {
        "application/vnd.databricks.v1+cell": {
          "title": "",
          "showTitle": false,
          "inputWidgets": {},
          "nuid": "e47fe26d-f2fe-45df-ae6d-f4d085a54b25"
        },
        "id": "o_qgnEWH88zo",
        "colab": {
          "base_uri": "https://localhost:8080/"
        },
        "outputId": "928d2ddd-cc85-42e3-d6d6-2b470c63a2c1"
      },
      "outputs": [
        {
          "output_type": "stream",
          "name": "stdout",
          "text": [
            "Precision by label:\n",
            "label 0: 0.9944444444444445\n",
            "label 1: 0.9730458221024259\n",
            "label 2: 0.978021978021978\n",
            "label 3: 0.9886039886039886\n",
            "Recall by label:\n",
            "label 0: 0.9835164835164835\n",
            "label 1: 0.9863387978142076\n",
            "label 2: 0.978021978021978\n",
            "label 3: 0.9857954545454546\n",
            "F-measure by label:\n",
            "label 0: 0.9889502762430938\n",
            "label 1: 0.9796472184531886\n",
            "label 2: 0.978021978021978\n",
            "label 3: 0.9871977240398293\n",
            "Accuracy: 0.983402489626556\n",
            "FPR: 0.005560200193063346\n",
            "TPR: 0.9834024896265561\n",
            "F-measure: 0.9834179677512953\n",
            "Precision: 0.9834724430538517\n",
            "Recall: 0.9834024896265561\n"
          ]
        }
      ],
      "execution_count": null
    },
    {
      "cell_type": "markdown",
      "source": [
        "## Decision Tree"
      ],
      "metadata": {
        "application/vnd.databricks.v1+cell": {
          "title": "",
          "showTitle": false,
          "inputWidgets": {},
          "nuid": "d8b10506-8ddb-4fed-a48a-bf0a9216faf2"
        },
        "id": "KgyBG99D88zp"
      }
    },
    {
      "cell_type": "code",
      "source": [
        "FEATURES_COL[13]"
      ],
      "metadata": {
        "application/vnd.databricks.v1+cell": {
          "title": "",
          "showTitle": false,
          "inputWidgets": {},
          "nuid": "6f3a8353-ecd9-44c3-b608-f99a0b6aa2e8"
        },
        "id": "XCCINlKQ88zp",
        "outputId": "3d26f8f6-9584-494a-c8a6-45d23b345791"
      },
      "outputs": [
        {
          "output_type": "display_data",
          "metadata": {
            "application/vnd.databricks.v1+output": {
              "datasetInfos": [],
              "data": "<div class=\"ansiout\">Out[62]: &#39;ram&#39;</div>",
              "removedWidgets": [],
              "addedWidgets": {},
              "metadata": {},
              "type": "html",
              "arguments": {}
            }
          },
          "data": {
            "text/html": [
              "<style scoped>\n  .ansiout {\n    display: block;\n    unicode-bidi: embed;\n    white-space: pre-wrap;\n    word-wrap: break-word;\n    word-break: break-all;\n    font-family: \"Source Code Pro\", \"Menlo\", monospace;;\n    font-size: 13px;\n    color: #555;\n    margin-left: 4px;\n    line-height: 19px;\n  }\n</style>\n<div class=\"ansiout\">Out[62]: &#39;ram&#39;</div>"
            ]
          }
        }
      ],
      "execution_count": null
    },
    {
      "cell_type": "code",
      "source": [
        "from pyspark.ml.classification import DecisionTreeClassifier\n",
        "from pyspark.ml.feature import StringIndexer\n",
        "from pyspark.ml import Pipeline\n",
        "\n",
        "assembler = VectorAssembler(inputCols=FEATURES_COL, outputCol='features')\n",
        "indexer = StringIndexer().setInputCol(LABEL_COL).setOutputCol(\"indexedLabel\") # one-hot encoding\n",
        "\n",
        "dtc = DecisionTreeClassifier().setLabelCol(\"indexedLabel\")\n",
        "\n",
        "# Chain indexer + dtc together into a single ML Pipeline.\n",
        "pipeline = Pipeline().setStages([assembler, indexer, dtc])\n",
        "\n",
        "model = pipeline.fit(df_train)\n",
        "display(model.stages[-1])"
      ],
      "metadata": {
        "trusted": true,
        "application/vnd.databricks.v1+cell": {
          "title": "",
          "showTitle": false,
          "inputWidgets": {},
          "nuid": "8496c7ce-6f1d-4a57-8a40-ececd40e9977"
        },
        "colab": {
          "base_uri": "https://localhost:8080/",
          "height": 34
        },
        "id": "_s8qbeYX88zp",
        "outputId": "559923af-b18b-44bd-bf11-f73efee0248e"
      },
      "outputs": [
        {
          "output_type": "display_data",
          "data": {
            "text/plain": [
              "DecisionTreeClassificationModel: uid=DecisionTreeClassifier_0aa921622e33, depth=5, numNodes=45, numClasses=4, numFeatures=20"
            ]
          },
          "metadata": {}
        }
      ],
      "execution_count": null
    },
    {
      "cell_type": "code",
      "source": [
        "from pyspark.ml.evaluation import MulticlassClassificationEvaluator\n",
        "# Make predictions.\n",
        "predictions = model.transform(df_val)\n",
        "\n",
        "# Select example rows to display.\n",
        "predictions.select(\"prediction\", \"indexedLabel\", \"features\").show(5)\n",
        "\n",
        "# Select (prediction, true label) and compute test error\n",
        "evaluator = MulticlassClassificationEvaluator(\n",
        "    labelCol=\"indexedLabel\", predictionCol=\"prediction\", metricName=\"accuracy\")\n",
        "accuracy = evaluator.evaluate(predictions)\n",
        "print(\"Test Error = %g \" % accuracy)"
      ],
      "metadata": {
        "trusted": true,
        "application/vnd.databricks.v1+cell": {
          "title": "",
          "showTitle": false,
          "inputWidgets": {},
          "nuid": "cb016e77-0319-42f5-934e-806f454e9a13"
        },
        "colab": {
          "base_uri": "https://localhost:8080/"
        },
        "id": "uAKxtLH_88zq",
        "outputId": "d102cb56-cdef-4095-f829-ff26934777db"
      },
      "outputs": [
        {
          "output_type": "stream",
          "name": "stdout",
          "text": [
            "+----------+------------+--------------------+\n",
            "|prediction|indexedLabel|            features|\n",
            "+----------+------------+--------------------+\n",
            "|       2.0|         2.0|[502.0,0.0,0.8,0....|\n",
            "|       3.0|         3.0|[503.0,1.0,1.8,1....|\n",
            "|       2.0|         0.0|[504.0,1.0,0.5,1....|\n",
            "|       1.0|         1.0|[504.0,1.0,0.5,1....|\n",
            "|       0.0|         0.0|[507.0,1.0,0.5,1....|\n",
            "+----------+------------+--------------------+\n",
            "only showing top 5 rows\n",
            "\n",
            "Test Error = 0.8213 \n"
          ]
        }
      ],
      "execution_count": null
    },
    {
      "cell_type": "code",
      "source": [
        "# https://github.com/Azure/mmlspark"
      ],
      "metadata": {
        "trusted": true,
        "application/vnd.databricks.v1+cell": {
          "title": "",
          "showTitle": false,
          "inputWidgets": {},
          "nuid": "6e98a331-6a70-4d89-a37b-9e6ded1e4cf7"
        },
        "id": "3gnJQ69T88zq"
      },
      "outputs": [],
      "execution_count": null
    }
  ],
  "metadata": {
    "kernelspec": {
      "language": "python",
      "display_name": "Python 3",
      "name": "python3"
    },
    "language_info": {
      "mimetype": "text/x-python",
      "name": "python",
      "pygments_lexer": "ipython3",
      "codemirror_mode": {
        "name": "ipython",
        "version": 3
      },
      "version": "3.6.4",
      "nbconvert_exporter": "python",
      "file_extension": ".py"
    },
    "application/vnd.databricks.v1+notebook": {
      "notebookName": "mobile-price-classification",
      "dashboards": [],
      "notebookMetadata": {
        "pythonIndentUnit": 2
      },
      "language": "python",
      "widgets": {},
      "notebookOrigID": 4132296756326921
    },
    "colab": {
      "provenance": [],
      "toc_visible": true,
      "include_colab_link": true
    }
  },
  "nbformat": 4,
  "nbformat_minor": 0
}